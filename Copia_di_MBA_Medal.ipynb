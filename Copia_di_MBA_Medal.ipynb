{
  "cells": [
    {
      "cell_type": "code",
      "execution_count": null,
      "metadata": {
        "id": "LKVQRcy6Lg5u",
        "colab": {
          "base_uri": "https://localhost:8080/"
        },
        "outputId": "6e13084c-7a34-4dc6-9030-385d9ab4905f"
      },
      "outputs": [
        {
          "output_type": "stream",
          "name": "stderr",
          "text": [
            "/usr/local/lib/python3.10/dist-packages/ipykernel/ipkernel.py:283: DeprecationWarning: `should_run_async` will not call `transform_cell` automatically in the future. Please pass the result to `transformed_cell` argument and any exception that happen during thetransform in `preprocessing_exc_tuple` in IPython 7.17 and above.\n",
            "  and should_run_async(code)\n"
          ]
        }
      ],
      "source": [
        "# Install libraries\n",
        "from mlxtend.frequent_patterns import apriori\n",
        "from mlxtend.frequent_patterns import association_rules\n",
        "import numpy as np\n",
        "import pandas as pd\n",
        "import csv\n",
        "import os\n"
      ]
    },
    {
      "cell_type": "code",
      "execution_count": null,
      "metadata": {
        "colab": {
          "base_uri": "https://localhost:8080/"
        },
        "id": "RybBWltPs4p1",
        "outputId": "4446165c-dff2-4073-bd72-47559de36fb2"
      },
      "outputs": [
        {
          "output_type": "stream",
          "name": "stderr",
          "text": [
            "/usr/local/lib/python3.10/dist-packages/ipykernel/ipkernel.py:283: DeprecationWarning: `should_run_async` will not call `transform_cell` automatically in the future. Please pass the result to `transformed_cell` argument and any exception that happen during thetransform in `preprocessing_exc_tuple` in IPython 7.17 and above.\n",
            "  and should_run_async(code)\n"
          ]
        },
        {
          "output_type": "stream",
          "name": "stdout",
          "text": [
            "Requirement already satisfied: kaggle in /usr/local/lib/python3.10/dist-packages (1.5.16)\n",
            "Requirement already satisfied: six>=1.10 in /usr/local/lib/python3.10/dist-packages (from kaggle) (1.16.0)\n",
            "Requirement already satisfied: certifi in /usr/local/lib/python3.10/dist-packages (from kaggle) (2023.7.22)\n",
            "Requirement already satisfied: python-dateutil in /usr/local/lib/python3.10/dist-packages (from kaggle) (2.8.2)\n",
            "Requirement already satisfied: requests in /usr/local/lib/python3.10/dist-packages (from kaggle) (2.31.0)\n",
            "Requirement already satisfied: tqdm in /usr/local/lib/python3.10/dist-packages (from kaggle) (4.66.1)\n",
            "Requirement already satisfied: python-slugify in /usr/local/lib/python3.10/dist-packages (from kaggle) (8.0.1)\n",
            "Requirement already satisfied: urllib3 in /usr/local/lib/python3.10/dist-packages (from kaggle) (2.0.7)\n",
            "Requirement already satisfied: bleach in /usr/local/lib/python3.10/dist-packages (from kaggle) (6.1.0)\n",
            "Requirement already satisfied: webencodings in /usr/local/lib/python3.10/dist-packages (from bleach->kaggle) (0.5.1)\n",
            "Requirement already satisfied: text-unidecode>=1.3 in /usr/local/lib/python3.10/dist-packages (from python-slugify->kaggle) (1.3)\n",
            "Requirement already satisfied: charset-normalizer<4,>=2 in /usr/local/lib/python3.10/dist-packages (from requests->kaggle) (3.3.1)\n",
            "Requirement already satisfied: idna<4,>=2.5 in /usr/local/lib/python3.10/dist-packages (from requests->kaggle) (3.4)\n"
          ]
        }
      ],
      "source": [
        "pip install kaggle\n"
      ]
    },
    {
      "cell_type": "code",
      "execution_count": null,
      "metadata": {
        "colab": {
          "base_uri": "https://localhost:8080/"
        },
        "id": "ykBNmHxLw_Ge",
        "outputId": "f316499a-0c9d-4b99-c036-243363dffc75"
      },
      "outputs": [
        {
          "output_type": "stream",
          "name": "stderr",
          "text": [
            "/usr/local/lib/python3.10/dist-packages/ipykernel/ipkernel.py:283: DeprecationWarning: `should_run_async` will not call `transform_cell` automatically in the future. Please pass the result to `transformed_cell` argument and any exception that happen during thetransform in `preprocessing_exc_tuple` in IPython 7.17 and above.\n",
            "  and should_run_async(code)\n"
          ]
        }
      ],
      "source": [
        "# Kaggle API to download the dataset\n",
        "kaggle_api = {'username':'mc71ds','key':'9ff35c8f8df511f9cc0d75f39d3d640e'}\n",
        "os.environ['KAGGLE_USERNAME'] = kaggle_api['username']\n",
        "os.environ['KAGGLE_KEY'] = kaggle_api['key']"
      ]
    },
    {
      "cell_type": "code",
      "execution_count": null,
      "metadata": {
        "colab": {
          "base_uri": "https://localhost:8080/"
        },
        "id": "NKOkVSMgx5MI",
        "outputId": "f596f0d7-f524-4486-d94a-555a8cc12f88"
      },
      "outputs": [
        {
          "output_type": "stream",
          "name": "stderr",
          "text": [
            "/usr/local/lib/python3.10/dist-packages/ipykernel/ipkernel.py:283: DeprecationWarning: `should_run_async` will not call `transform_cell` automatically in the future. Please pass the result to `transformed_cell` argument and any exception that happen during thetransform in `preprocessing_exc_tuple` in IPython 7.17 and above.\n",
            "  and should_run_async(code)\n"
          ]
        },
        {
          "output_type": "stream",
          "name": "stdout",
          "text": [
            "Downloading medal-emnlp.zip to /content\n",
            "100% 6.81G/6.82G [01:19<00:00, 150MB/s]\n",
            "100% 6.82G/6.82G [01:19<00:00, 92.4MB/s]\n"
          ]
        }
      ],
      "source": [
        "!kaggle datasets download xhlulu/medal-emnlp --force"
      ]
    },
    {
      "cell_type": "code",
      "execution_count": null,
      "metadata": {
        "colab": {
          "base_uri": "https://localhost:8080/"
        },
        "id": "cK8k90pi96lR",
        "outputId": "c17cfde3-8df8-43c2-8618-8b93bebea95e"
      },
      "outputs": [
        {
          "output_type": "stream",
          "name": "stderr",
          "text": [
            "/usr/local/lib/python3.10/dist-packages/ipykernel/ipkernel.py:283: DeprecationWarning: `should_run_async` will not call `transform_cell` automatically in the future. Please pass the result to `transformed_cell` argument and any exception that happen during thetransform in `preprocessing_exc_tuple` in IPython 7.17 and above.\n",
            "  and should_run_async(code)\n"
          ]
        },
        {
          "output_type": "stream",
          "name": "stdout",
          "text": [
            "Archive:  medal-emnlp.zip\n",
            "  inflating: full_data.csv           \n"
          ]
        }
      ],
      "source": [
        "!unzip -o medal-emnlp.zip full_data.csv"
      ]
    },
    {
      "cell_type": "code",
      "execution_count": null,
      "metadata": {
        "colab": {
          "base_uri": "https://localhost:8080/"
        },
        "id": "CYqL1Bd6AlOX",
        "outputId": "35f78d75-df60-4b98-c3e8-3a30bf2b278c"
      },
      "outputs": [
        {
          "output_type": "stream",
          "name": "stdout",
          "text": [
            "['TEXT', 'LOCATION', 'LABEL']\n",
            "['alphabisabolol has a primary antipeptic action depending on dosage which is not caused by an alteration of the phvalue the proteolytic activity of pepsin is reduced by percent through addition of bisabolol in the ratio of the antipeptic action of bisabolol only occurs in case of direct contact in case of a previous contact with the ATP the inhibiting effect is lost', '56', 'substrate']\n",
            "['a report is given on the recent discovery of outstanding immunological properties in ba ncyanoethyleneurea having a low molecular mass m experiments in ds CS bearing wistar rats have shown that ba at a dosage of only about percent ld mg kg and negligible lethality percent results in a REC rate of percent without hyperglycemia and in one test of percent with hyperglycemia under otherwise unchanged conditions the REF substance ifosfamide if a further development of cyclophosphamide applied without hyperglycemia in its most efficient dosage of percent ld mg kg brought about a recovery rate of percent at a lethality of percent contrary to ba min hyperglycemia caused no further improvement of the REC rate however this comparison is characterized by the fact that both substances exhibit two quite different complementary mechanisms of action leucocyte counts made T3 application of the said cancerostatics and dosages have shown a pronounced stimulation with ba and with ifosfamide the known suppression in the posttherapeutic interval usually found with standard cancerostatics in combination with the cited PI test for ba blood pictures then allow conclusions on the immunity status since if can be taken as one of the most efficient cancerostaticsthere is no other chemotherapeutic known up to now that has a more significant effect on the ds carcinosarcoma in rats these findings are of special importance finally the total amount of leucocytes and lymphocytes as well as their time behaviour was determined from the blood picture of tumourfree rats after iv application of ba the thus obtained numerical values clearly show that further research work on the prophylactic use of this substance seems to be necessary and very promising', '24|49|68|113|137|172', 'carcinosarcoma|recovery|reference|recovery|after|plaque']\n",
            "['the virostatic compound nndiethyloxotetradecylimidazolidinylethylpiperazinecarboxamidehydrochloride was analyzed as to its effect on the induction of tryptophanpyrrolase and tyrosineaminotransferase in rat liver the basic activity of the enzymes was not influenced by the substance either in normal or in adrenalectomized animals the induction of the enzymes by cortisone increased in the presence of the compound whereas the ATP induction remained unchanged the induction of tyrosineaminotransferase by dexamethasonephosphate in tissue culture is inhibited if the dose of compound is higher than mugml', '55', 'substrate']\n",
            "['rmi rmi and rmi are newly synthetized nrdibenzobfoxepinylnmethylpiperazinemaleates which show interesting psychopharmacologic effects this work contains the results of a study performed with these three EDC in order to demonstrate their neuropsycholeptic activity in comparison with chloropromazine cpz and chlordiazepoxide cpd the inhibition of motility observed in mice shows that the compounds reduce the normal spontaneous motility as well as the muscle tone the centraldepressant activity is evidenced by increased barbiturateinduced sleep and a remarkable eyelid ptosis can also be observed our EDC do not show any activity on electroshock just as do cpz and cpd as to the antipsychotic outline our compounds show strong reduction of lethality due to amphetamine in grouped mice and a strong antiapomorphine activity they show also an antiaggressive effect and an GABA activity on avoidance behaviour much stronger than cpz we have also found extrapyramidal effects as catalepsy common to many tranquillizers of the kind of the standards used by us as for vegetative phenomena the compounds show hypotensive dose related action ranging from moderate to strong probably due to an areceptor inhibition adrenolytic activity against MLD of adrenaline antiserotonin and antihistaminic effects as well as other actions hypothermia analgesia etc confirm that rmi rmi and rmi are endowed with pharmacologic properties similar and more potent than those of cpz studies on the metabolism of brain CAs show that they are similar to cpz although with less effect on dopamine level', '25|82|127|182|222', 'compounds|compounds|inhibitory|lethal doses|catecholamines']\n",
            "['a doubleblind study with intraindividual comparisons was carried out to investigate the effects of mg of ralphahydroxyisopropylalphahtropanium bromidetropate sch mg sch mg OX mg oxazepam and PL with p.o. in randomized sequence on gastric juice volume amount of acid concentration and ph values in healthy volunteers the secretion parameters were measured during a h basal period and a h stimulation period the gastric juice was obtained in min portions via stomach tube stimulation was effected by mugkgh PG via drip infusion the friedman test was used for the comparative statistical DUE and individual comparisons were carried out by means of the wilcoxon test pairdifferences rank the results show that sch and sch oxazepam were equal in effect on basal and stimulated secretion volume as compared with placebo it was not possible to establish an effect on secretion volume for oxazepam alone sch and sch OX were found to be equipotent in reducing the amount of basal acid while OX reduced this quantity only during the first min of basal secretion none of the three active preparations was capable of inhibiting the stimulated acid although both sch preparations produced a clear trend towards lowered mean values during the basal secretion period all three test S9 had an inhibiting action on acid concentration but none of them had a significant effect during the stimulation period the ph value was savely increased only by sch and sch oxazepam and this even only during the basal period the results are discussed', '22|26|28|77|90|144|158|203', 'oxazepam|placebo|oral administration|pentagastrin|evaluation|oxazepam|oxazepam|preparations']\n",
            "['stroma from either normal or pnhlike CRC is capable of inhibiting to some extent lysis in the sucrose test and enhancing lysis in the acidifiedserum test the same opposing effects are displayed by the exclusion peaks from sephadex g obtained from each stroma preparation suggesting that the same factor could be responsible for both activities stromata and peaks also induce lysis of pnhlike cells in unacidified serum indicating activation of complement through the alternate pathway this is confirmed by immunoelectrophoretic observation when SS previously G1 through the alternate pathway is used in the sucrose test the amount of lysis is markedly reduced this would indicate that the CP pathway activation can be controlled by the alternate pathway the possible clinical significance of these factors in determining the haemolytic crisis in pnh patients is discussed', '6|82|84|107', 'red cells|serum|activated|classical']\n",
            "['the effect of the L1 metabolite of aspirin namely salicylic acid upon the PP pathway ppp of normal and gpddeficient red cells has been studied salicylic acid was shown to inhibit this pathway in proportion to the amount present at any concentration of this substance there was greater inhibition of the ppp in gpddeficient than in normal red cells', '4|13', 'major|pentose phosphate']\n",
            "['in one experiment the effect on rumen ph of feeding with restricted amounts of whole or pelleted barley was studied with whole barley there was little variation in rumen ph associated with FF time but with pelleted barley the ph decreased from about before FF to about h after feeding the rate of disappearance of dried grass during incubation in the rumens of sheep receiving either whole or pelleted barley was studied in a second experiment T3 h incubation only mgg incubated had disappeared in the rumen of sheep receiving pelleted barley while mgg incubated had disappeared when it was incubated in the rumen of sheep receiving whole barley the voluntary intake of dried grass of lambs was studied in a third experiment when they received supplements of either or g whole or pelleted barleykg LW at the high level pelleted barley reduced intake of dried grass by gkg but whole barley reduced it by only gkg the digestibility of aciddetergent fibre was reduced more by pelleted barley than by whole barley but there was a tendency for a small increase in digestibility of the barley due to processing the implications of these findings on supplementation of roughages with cereals are discussed', '32|44|76|135', 'feeding|feeding|after|live weight']\n",
            "['the presence of at least two ionizable AS center groups has been detected by a T0 of the effect of ph upon catalysis of hydrolysis of lalanylbetanaphthylamide by human liver alanine aminopeptidase and upon the inhibition of hydrolysis by inhibitors and substrate analogs octanoic acid octylamine and peptide inhibitors have been found to be competitive inhibitors and are therefore thought to bind the AS center lphe was previously shown to bind the active center since it was found to be a competitive inhibitor of the hydrolysis of tripeptide substrates garner c w and behal f j biochemistry a plot of pkm vs ph for the substrate lalabetanaphthylamide showed that binding decreased below ph and above the points at which the theoretical curve undergoes an integral change in slope these points are interpreted as the pka either of ATP ionizable groups or bindingdependent enzyme active center groups similar plots of pkm vs ph for lalanylpnitroanilide as substrate and pki vs ph for lleulleulleu and dleultyr as inhibitors gave pairs fo pka values of and and and and respectively all the above substrates and dleultyr have pka values near therefore the bindingdependent group with a pka value near is possibly this ATP group similar plots of pki vs ph for the inhibitors lphe lmet lleu octylamine and octanoic acid had only one bending point at and respectively amino acid inhibitors octylamine and octanoic acid have no groups with pka values between and these data indicate that there are two AS center ionizable groups with pka values of approximately and which are involved in substrate binding or inhibitory CAA binding but not in catalysis since vmax was constant at all ph values tested', '7|15|63|137|199|247|265', 'active|study|active|substrate|substrate|active|amino acid']\n",
            "['the reaction of glutamate dehydrogenase and glutamate gl with nad and nadp has been studied with stoppedflow techniques the enzyme was in all experiments present in excess of the coenzyme the results indicate that the ternary complex enadphkg is present as an intermediate in the formation of the stable complex enadphgl the identification of the complexes is based on their absorption spectra the binding of the coenzyme to egl is the ratelimiting step in the formation of enadphkg while the dissociation of alphaketoglutarate kg from this complex is the ratelimiting step in the formation of enadphgl the km for glutamate was mm in the first reaction and mm in the formation of the SD complex the km values were independent of the coenzyme the reaction rates with nad were approximately greater than those with nadp furthermore high glutamate concentration inhibited the formation of enadhkg while no substrate inhibition was found with nadp as coenzyme adp enhanced while gtp reduced the rate of enadphgl formation the rate of formation of enadphkg was inhibited by adp while it increased at high glutamate concentration when small amounts of gtp were added the results show that the higher activity found with nad compared to nadp under steadystate CA conditions do not necessarily involve IB of nad to the adp activating site of the enzyme moreover the substrate inhibition found at high glutamate concentration under steadystate assay condition is not due to the formation of enadphgl as this complex is formed with km of mm glu and the substrate inhibition is only significant at times this concentration', '113|203|209|250', 'stable|assay|binding|glutamate']\n",
            "['choline acetyltransferase ec catalyzes the biosynthesis of acetylcholine according to the following chemical equation acetylcoa choline in equilibrium to acetylcholine coa in addition to nervous tissue primate placenta is the only other animal source which contains appreciable acetylcholine and its biosynthetic enzyme human brain Cd nucleus and human placental choline acetyltransferase were purified to electrophoretic homogeneity using ionexchange and blue dextransepharose affinity chromatography the molecular weights determined by sephadex g gel filtration and sodium dodecyl sulfate gel electrophoresis are plus or minus nethylmaleimide pchloromercuribenzoate and dithiobisnitrobenzoic acid inhibit the enzyme dithiothreitol reverses the inhibition produced by the latter two reagents the pka of the group associated with nethylmaleimide inhibition is plus or minus a chemically competent acetylthioenzyme is isolable by sephadex gel filtration the enzymes from the brain and placenta are thus far physically and biochemically indistinguishable', '44', 'caudate']\n",
            "['increasing concentrations of chloride were found to increase the resolution between two visible absorbance spectral transitions associated with acidification of ferricytochrome c analysis of a variety of spectral and viscosity measurements indicates that protonation of a single group having an apparent pk of and an intrinsic pk of about displaces the methionine ligand without significantly perturbing the native globular conformation analysis of methylated ferricytochrome c suggests that protonation of a carboxylate ion most likely a heme propionate residue is responsible for MSD of the methionine ligand addition of a proton to a second group having an apparent pk of displaces the histidine ligand and unfolds the protein from a globular conformation into a random coil it is most likely that the second protonation occurs on the imidazole ring of the histidine ligand itself chloride is proposed to perturb these transitions by ligation in the fifth coordination position of the heme ion such ligation stabilizes a globular conformation of ferricytochrome c at ph and degrees', '81', 'displacement']\n",
            "['the properties of the functional CG in a protein can be used as builtinprobes of the structure of the protein we have developed a general procedure whereby the ionization constant and chemical reactivity of solitary PET groups in proteins may be determined the method may be applied to the side chain of histidine tyrosine lysine and cysteine as well as to the amino terminus of the protein the method which is an extension of the competitive labeling technique using h and cfluorodinitrobenzene nphf in a doublelabeling procedure is rapid and sensitive advantage is taken of the fact that T3 acid hydrolysis of a dinitrophenylated protein a derivative is obtained which must be derived from a unique position in the protein the method has been applied to the solitary histidine residue of lysozyme alphalytic protease and streptomyces griseus sg trypsin as well as to the amino terminus of the latter protein the following parameters were obtained for reaction with nphf at degrees c in n kcl the histidine of hen eggwhite lysozyme pka of and secondorder velocity constant of m min the histidine of alphalytic protease pka of and secondorder velocity constant of m min the histidine of sg trypsin pka of and secondorder velocity constant of m min the valyl amino terminus of sg trypsin pka of and secondorder velocity constant of m min in addition the results obtained provide clues as to the microenvironments of these functional groups and indicate that the proteins studied undergo phdependent conformational changes which affect the microenvironment and hence the chemical CR of these groups', '5|35|98|257', 'groups|functional|after|reactivity']\n",
            "['primary amines react with pentanedione at ph to form enamines nalkylaminopentenones the latter compounds readily regenerate the primary amine at low ph or on treatment with hydroxylamine guanidine and substituted guanidines react with pentanedione to form nsubstituted aminodimethylpyrimidines at a rate which is lower by at least a factor of than the rate of reaction of pentanedione with primary amines selective modification of lysine and arginine side chains in proteins can readily be achieved with pentanedione modification of lysine is favored by reaction at ph or for short reaction times at ph selective modification of Arg is achieved by reaction with pentanedione for long times at ph followed by treatment of the protein with hydroxylamine the extent of modification of lysine and arginine side chains can readily be measured spectrophotometrically modification of lysozyme with pentanedione at ph results in modification of lysine residues and less than arginine residue in hr modification of lysozyme with pentanedione at ph results in modification of lysine residues and Arg residues in hr treatment of this modified protein with hydroxylamine regenerated the modified lysine residues but caused no NC in the modified arginine residues one arginine residue seems to be essential for the catalytic activity of the enzyme', '95|164|183', 'arginine|arginine|change']\n"
          ]
        },
        {
          "output_type": "stream",
          "name": "stderr",
          "text": [
            "/usr/local/lib/python3.10/dist-packages/ipykernel/ipkernel.py:283: DeprecationWarning: `should_run_async` will not call `transform_cell` automatically in the future. Please pass the result to `transformed_cell` argument and any exception that happen during thetransform in `preprocessing_exc_tuple` in IPython 7.17 and above.\n",
            "  and should_run_async(code)\n"
          ]
        }
      ],
      "source": [
        "# import csv and print the first 15 lines\n",
        "\n",
        "\n",
        "# Open the CSV file\n",
        "with open('/content/full_data.csv', 'r') as f:\n",
        "    # Create a CSV reader object\n",
        "    csv_reader = csv.reader(f)\n",
        "\n",
        "    # Print the first 15 lines\n",
        "    for i, row in enumerate(csv_reader):\n",
        "        if i < 15:\n",
        "            print(row)\n",
        "        else:\n",
        "            break\n",
        "\n"
      ]
    },
    {
      "cell_type": "code",
      "execution_count": null,
      "metadata": {
        "colab": {
          "base_uri": "https://localhost:8080/"
        },
        "id": "L9GgSExtFtmq",
        "outputId": "1a36e22a-5ce3-426d-d8be-7e2f652bdf69"
      },
      "outputs": [
        {
          "output_type": "stream",
          "name": "stderr",
          "text": [
            "/usr/local/lib/python3.10/dist-packages/ipykernel/ipkernel.py:283: DeprecationWarning: `should_run_async` will not call `transform_cell` automatically in the future. Please pass the result to `transformed_cell` argument and any exception that happen during thetransform in `preprocessing_exc_tuple` in IPython 7.17 and above.\n",
            "  and should_run_async(code)\n"
          ]
        },
        {
          "output_type": "stream",
          "name": "stdout",
          "text": [
            "Collecting pyspark\n",
            "  Downloading pyspark-3.5.0.tar.gz (316.9 MB)\n",
            "\u001b[2K     \u001b[90m━━━━━━━━━━━━━━━━━━━━━━━━━━━━━━━━━━━━━━━━\u001b[0m \u001b[32m316.9/316.9 MB\u001b[0m \u001b[31m1.9 MB/s\u001b[0m eta \u001b[36m0:00:00\u001b[0m\n",
            "\u001b[?25h  Preparing metadata (setup.py) ... \u001b[?25l\u001b[?25hdone\n",
            "Requirement already satisfied: py4j==0.10.9.7 in /usr/local/lib/python3.10/dist-packages (from pyspark) (0.10.9.7)\n",
            "Building wheels for collected packages: pyspark\n",
            "  Building wheel for pyspark (setup.py) ... \u001b[?25l\u001b[?25hdone\n",
            "  Created wheel for pyspark: filename=pyspark-3.5.0-py2.py3-none-any.whl size=317425344 sha256=01ed164bb59f4df3598a4b0a4693abbec2f66f51ea9898456800579875df0308\n",
            "  Stored in directory: /root/.cache/pip/wheels/41/4e/10/c2cf2467f71c678cfc8a6b9ac9241e5e44a01940da8fbb17fc\n",
            "Successfully built pyspark\n",
            "Installing collected packages: pyspark\n",
            "Successfully installed pyspark-3.5.0\n"
          ]
        }
      ],
      "source": [
        "!pip install pyspark\n",
        "import pyspark\n",
        "from pyspark.sql import SQLContext\n",
        "from pyspark import SparkContext\n",
        "from pyspark.conf import SparkConf"
      ]
    },
    {
      "cell_type": "code",
      "execution_count": null,
      "metadata": {
        "colab": {
          "base_uri": "https://localhost:8080/"
        },
        "id": "EzGSGAB-qL9r",
        "outputId": "0674972a-78a8-4430-fe8c-6e4e8c3b1e7c"
      },
      "outputs": [
        {
          "output_type": "stream",
          "name": "stderr",
          "text": [
            "/usr/local/lib/python3.10/dist-packages/ipykernel/ipkernel.py:283: DeprecationWarning: `should_run_async` will not call `transform_cell` automatically in the future. Please pass the result to `transformed_cell` argument and any exception that happen during thetransform in `preprocessing_exc_tuple` in IPython 7.17 and above.\n",
            "  and should_run_async(code)\n"
          ]
        },
        {
          "output_type": "stream",
          "name": "stdout",
          "text": [
            "<pyspark.sql.session.SparkSession object at 0x7ca29eb46260>\n"
          ]
        }
      ],
      "source": [
        "from pyspark.sql import SparkSession\n",
        "spark = SparkSession.builder.master(\"local[*]\").getOrCreate()\n",
        "print(spark)\n",
        "\n",
        "\n"
      ]
    },
    {
      "cell_type": "code",
      "execution_count": null,
      "metadata": {
        "colab": {
          "base_uri": "https://localhost:8080/"
        },
        "id": "PDnmy8pdGsKM",
        "outputId": "30568cda-29e9-4933-f59f-7fe28161cda8"
      },
      "outputs": [
        {
          "output_type": "stream",
          "name": "stderr",
          "text": [
            "/usr/local/lib/python3.10/dist-packages/ipykernel/ipkernel.py:283: DeprecationWarning: `should_run_async` will not call `transform_cell` automatically in the future. Please pass the result to `transformed_cell` argument and any exception that happen during thetransform in `preprocessing_exc_tuple` in IPython 7.17 and above.\n",
            "  and should_run_async(code)\n",
            "/usr/local/lib/python3.10/dist-packages/pyspark/sql/context.py:113: FutureWarning: Deprecated in 3.0.0. Use SparkSession.builder.getOrCreate() instead.\n",
            "  warnings.warn(\n"
          ]
        }
      ],
      "source": [
        "from pyspark import SparkConf, SparkContext\n",
        "from pyspark.sql import SparkSession, SQLContext\n",
        "\n",
        "conf = SparkConf().setAppName(\"MarketBasket Analysis\")\n",
        "conf.setMaster(\"local[*]\")\n",
        "sc = SparkContext.getOrCreate(conf=conf)\n",
        "\n",
        "spark = SparkSession.builder \\\n",
        "    .appName(\"MarketBasket Analysis\") \\\n",
        "    .getOrCreate()\n",
        "\n",
        "sqlcontext = SQLContext(spark)\n",
        "\n",
        "Medal_text = sqlcontext.read.csv('/content/full_data.csv', header=True, sep = ',',inferSchema=True).limit(150000)\n",
        "\n"
      ]
    },
    {
      "cell_type": "code",
      "execution_count": null,
      "metadata": {
        "id": "-TDRm-sAKBhF",
        "colab": {
          "base_uri": "https://localhost:8080/"
        },
        "outputId": "8c1be139-d3a9-40db-c551-9ddc9a923565"
      },
      "outputs": [
        {
          "output_type": "stream",
          "name": "stderr",
          "text": [
            "/usr/local/lib/python3.10/dist-packages/ipykernel/ipkernel.py:283: DeprecationWarning: `should_run_async` will not call `transform_cell` automatically in the future. Please pass the result to `transformed_cell` argument and any exception that happen during thetransform in `preprocessing_exc_tuple` in IPython 7.17 and above.\n",
            "  and should_run_async(code)\n"
          ]
        },
        {
          "output_type": "stream",
          "name": "stdout",
          "text": [
            "root\n",
            " |-- TEXT: string (nullable = true)\n",
            " |-- LOCATION: string (nullable = true)\n",
            " |-- LABEL: string (nullable = true)\n",
            "\n",
            "+--------------------+--------------------+--------------------+\n",
            "|                TEXT|            LOCATION|               LABEL|\n",
            "+--------------------+--------------------+--------------------+\n",
            "|alphabisabolol ha...|                  56|           substrate|\n",
            "|a report is given...|24|49|68|113|137|172|carcinosarcoma|re...|\n",
            "|the virostatic co...|                  55|           substrate|\n",
            "|rmi rmi and rmi a...|   25|82|127|182|222|compounds|compoun...|\n",
            "|a doubleblind stu...|22|26|28|77|90|14...|oxazepam|placebo|...|\n",
            "+--------------------+--------------------+--------------------+\n",
            "only showing top 5 rows\n",
            "\n"
          ]
        }
      ],
      "source": [
        "Medal_text.printSchema()\n",
        "Medal_text.show(5)\n"
      ]
    },
    {
      "cell_type": "code",
      "execution_count": null,
      "metadata": {
        "id": "fqsXB6_uXQA5",
        "colab": {
          "base_uri": "https://localhost:8080/"
        },
        "outputId": "564c319d-310c-4f64-da6e-4c1ad6637e76"
      },
      "outputs": [
        {
          "output_type": "stream",
          "name": "stderr",
          "text": [
            "/usr/local/lib/python3.10/dist-packages/ipykernel/ipkernel.py:283: DeprecationWarning: `should_run_async` will not call `transform_cell` automatically in the future. Please pass the result to `transformed_cell` argument and any exception that happen during thetransform in `preprocessing_exc_tuple` in IPython 7.17 and above.\n",
            "  and should_run_async(code)\n"
          ]
        },
        {
          "output_type": "stream",
          "name": "stdout",
          "text": [
            "+-----------------------------------------------------------------------------------------------------------------------------------------------------------------------------------------------------------------------------------------------------------------------------------------------------------------------------------------------------------------------------------------------------------------------------------------------------------------------------------------------------------------------------------------------------------------------------------------------------------------------------------------------------------------------------------------------------------------------------------------------------------------------------------------------------------------------------------------------------------------------------------------------------------------------------------------------------------------------------------------------------------------------------------------------------------------------------------------------------------------------------------------------------------------------------------------------------------------------------------------------------------------------------------------------------------------------------------------------------------------------------------------------------------------------------------------------------------------------------------------------------------------------------------------------------------------------------------------------------------------------------------------------------------------------------------------------------------------------------------------------------------------------------------------------------------------------------------------------------------------------------------------------------------------------------------------------------------------------------------------------------------------------------------------------------------------------------------------------------------------------------------------------------------------------------------------------------------------------------------+---------------------------+\n",
            "|TEXT                                                                                                                                                                                                                                                                                                                                                                                                                                                                                                                                                                                                                                                                                                                                                                                                                                                                                                                                                                                                                                                                                                                                                                                                                                                                                                                                                                                                                                                                                                                                                                                                                                                                                                                                                                                                                                                                                                                                                                                                                                                                                                                                                                                                                               |LOCATION                   |\n",
            "+-----------------------------------------------------------------------------------------------------------------------------------------------------------------------------------------------------------------------------------------------------------------------------------------------------------------------------------------------------------------------------------------------------------------------------------------------------------------------------------------------------------------------------------------------------------------------------------------------------------------------------------------------------------------------------------------------------------------------------------------------------------------------------------------------------------------------------------------------------------------------------------------------------------------------------------------------------------------------------------------------------------------------------------------------------------------------------------------------------------------------------------------------------------------------------------------------------------------------------------------------------------------------------------------------------------------------------------------------------------------------------------------------------------------------------------------------------------------------------------------------------------------------------------------------------------------------------------------------------------------------------------------------------------------------------------------------------------------------------------------------------------------------------------------------------------------------------------------------------------------------------------------------------------------------------------------------------------------------------------------------------------------------------------------------------------------------------------------------------------------------------------------------------------------------------------------------------------------------------------+---------------------------+\n",
            "|alphabisabolol has a primary antipeptic action depending on dosage which is not caused by an alteration of the phvalue the proteolytic activity of pepsin is reduced by percent through addition of bisabolol in the ratio of the antipeptic action of bisabolol only occurs in case of direct contact in case of a previous contact with the ATP the inhibiting effect is lost                                                                                                                                                                                                                                                                                                                                                                                                                                                                                                                                                                                                                                                                                                                                                                                                                                                                                                                                                                                                                                                                                                                                                                                                                                                                                                                                                                                                                                                                                                                                                                                                                                                                                                                                                                                                                                                    |56                         |\n",
            "|a report is given on the recent discovery of outstanding immunological properties in ba ncyanoethyleneurea having a low molecular mass m experiments in ds CS bearing wistar rats have shown that ba at a dosage of only about percent ld mg kg and negligible lethality percent results in a REC rate of percent without hyperglycemia and in one test of percent with hyperglycemia under otherwise unchanged conditions the REF substance ifosfamide if a further development of cyclophosphamide applied without hyperglycemia in its most efficient dosage of percent ld mg kg brought about a recovery rate of percent at a lethality of percent contrary to ba min hyperglycemia caused no further improvement of the REC rate however this comparison is characterized by the fact that both substances exhibit two quite different complementary mechanisms of action leucocyte counts made T3 application of the said cancerostatics and dosages have shown a pronounced stimulation with ba and with ifosfamide the known suppression in the posttherapeutic interval usually found with standard cancerostatics in combination with the cited PI test for ba blood pictures then allow conclusions on the immunity status since if can be taken as one of the most efficient cancerostaticsthere is no other chemotherapeutic known up to now that has a more significant effect on the ds carcinosarcoma in rats these findings are of special importance finally the total amount of leucocytes and lymphocytes as well as their time behaviour was determined from the blood picture of tumourfree rats after iv application of ba the thus obtained numerical values clearly show that further research work on the prophylactic use of this substance seems to be necessary and very promising                                                                                                                                                                                                                                                                                                                                                                                                                    |24|49|68|113|137|172       |\n",
            "|the virostatic compound nndiethyloxotetradecylimidazolidinylethylpiperazinecarboxamidehydrochloride was analyzed as to its effect on the induction of tryptophanpyrrolase and tyrosineaminotransferase in rat liver the basic activity of the enzymes was not influenced by the substance either in normal or in adrenalectomized animals the induction of the enzymes by cortisone increased in the presence of the compound whereas the ATP induction remained unchanged the induction of tyrosineaminotransferase by dexamethasonephosphate in tissue culture is inhibited if the dose of compound is higher than mugml                                                                                                                                                                                                                                                                                                                                                                                                                                                                                                                                                                                                                                                                                                                                                                                                                                                                                                                                                                                                                                                                                                                                                                                                                                                                                                                                                                                                                                                                                                                                                                                                         |55                         |\n",
            "|rmi rmi and rmi are newly synthetized nrdibenzobfoxepinylnmethylpiperazinemaleates which show interesting psychopharmacologic effects this work contains the results of a study performed with these three EDC in order to demonstrate their neuropsycholeptic activity in comparison with chloropromazine cpz and chlordiazepoxide cpd the inhibition of motility observed in mice shows that the compounds reduce the normal spontaneous motility as well as the muscle tone the centraldepressant activity is evidenced by increased barbiturateinduced sleep and a remarkable eyelid ptosis can also be observed our EDC do not show any activity on electroshock just as do cpz and cpd as to the antipsychotic outline our compounds show strong reduction of lethality due to amphetamine in grouped mice and a strong antiapomorphine activity they show also an antiaggressive effect and an GABA activity on avoidance behaviour much stronger than cpz we have also found extrapyramidal effects as catalepsy common to many tranquillizers of the kind of the standards used by us as for vegetative phenomena the compounds show hypotensive dose related action ranging from moderate to strong probably due to an areceptor inhibition adrenolytic activity against MLD of adrenaline antiserotonin and antihistaminic effects as well as other actions hypothermia analgesia etc confirm that rmi rmi and rmi are endowed with pharmacologic properties similar and more potent than those of cpz studies on the metabolism of brain CAs show that they are similar to cpz although with less effect on dopamine level                                                                                                                                                                                                                                                                                                                                                                                                                                                                                                                                                                                             |25|82|127|182|222          |\n",
            "|a doubleblind study with intraindividual comparisons was carried out to investigate the effects of mg of ralphahydroxyisopropylalphahtropanium bromidetropate sch mg sch mg OX mg oxazepam and PL with p.o. in randomized sequence on gastric juice volume amount of acid concentration and ph values in healthy volunteers the secretion parameters were measured during a h basal period and a h stimulation period the gastric juice was obtained in min portions via stomach tube stimulation was effected by mugkgh PG via drip infusion the friedman test was used for the comparative statistical DUE and individual comparisons were carried out by means of the wilcoxon test pairdifferences rank the results show that sch and sch oxazepam were equal in effect on basal and stimulated secretion volume as compared with placebo it was not possible to establish an effect on secretion volume for oxazepam alone sch and sch OX were found to be equipotent in reducing the amount of basal acid while OX reduced this quantity only during the first min of basal secretion none of the three active preparations was capable of inhibiting the stimulated acid although both sch preparations produced a clear trend towards lowered mean values during the basal secretion period all three test S9 had an inhibiting action on acid concentration but none of them had a significant effect during the stimulation period the ph value was savely increased only by sch and sch oxazepam and this even only during the basal period the results are discussed                                                                                                                                                                                                                                                                                                                                                                                                                                                                                                                                                                                                                                                   |22|26|28|77|90|144|158|203 |\n",
            "|stroma from either normal or pnhlike CRC is capable of inhibiting to some extent lysis in the sucrose test and enhancing lysis in the acidifiedserum test the same opposing effects are displayed by the exclusion peaks from sephadex g obtained from each stroma preparation suggesting that the same factor could be responsible for both activities stromata and peaks also induce lysis of pnhlike cells in unacidified serum indicating activation of complement through the alternate pathway this is confirmed by immunoelectrophoretic observation when SS previously G1 through the alternate pathway is used in the sucrose test the amount of lysis is markedly reduced this would indicate that the CP pathway activation can be controlled by the alternate pathway the possible clinical significance of these factors in determining the haemolytic crisis in pnh patients is discussed                                                                                                                                                                                                                                                                                                                                                                                                                                                                                                                                                                                                                                                                                                                                                                                                                                                                                                                                                                                                                                                                                                                                                                                                                                                                                                                            |6|82|84|107                |\n",
            "|the effect of the L1 metabolite of aspirin namely salicylic acid upon the PP pathway ppp of normal and gpddeficient red cells has been studied salicylic acid was shown to inhibit this pathway in proportion to the amount present at any concentration of this substance there was greater inhibition of the ppp in gpddeficient than in normal red cells                                                                                                                                                                                                                                                                                                                                                                                                                                                                                                                                                                                                                                                                                                                                                                                                                                                                                                                                                                                                                                                                                                                                                                                                                                                                                                                                                                                                                                                                                                                                                                                                                                                                                                                                                                                                                                                                        |4|13                       |\n",
            "|in one experiment the effect on rumen ph of feeding with restricted amounts of whole or pelleted barley was studied with whole barley there was little variation in rumen ph associated with FF time but with pelleted barley the ph decreased from about before FF to about h after feeding the rate of disappearance of dried grass during incubation in the rumens of sheep receiving either whole or pelleted barley was studied in a second experiment T3 h incubation only mgg incubated had disappeared in the rumen of sheep receiving pelleted barley while mgg incubated had disappeared when it was incubated in the rumen of sheep receiving whole barley the voluntary intake of dried grass of lambs was studied in a third experiment when they received supplements of either or g whole or pelleted barleykg LW at the high level pelleted barley reduced intake of dried grass by gkg but whole barley reduced it by only gkg the digestibility of aciddetergent fibre was reduced more by pelleted barley than by whole barley but there was a tendency for a small increase in digestibility of the barley due to processing the implications of these findings on supplementation of roughages with cereals are discussed                                                                                                                                                                                                                                                                                                                                                                                                                                                                                                                                                                                                                                                                                                                                                                                                                                                                                                                                                                                     |32|44|76|135               |\n",
            "|the presence of at least two ionizable AS center groups has been detected by a T0 of the effect of ph upon catalysis of hydrolysis of lalanylbetanaphthylamide by human liver alanine aminopeptidase and upon the inhibition of hydrolysis by inhibitors and substrate analogs octanoic acid octylamine and peptide inhibitors have been found to be competitive inhibitors and are therefore thought to bind the AS center lphe was previously shown to bind the active center since it was found to be a competitive inhibitor of the hydrolysis of tripeptide substrates garner c w and behal f j biochemistry a plot of pkm vs ph for the substrate lalabetanaphthylamide showed that binding decreased below ph and above the points at which the theoretical curve undergoes an integral change in slope these points are interpreted as the pka either of ATP ionizable groups or bindingdependent enzyme active center groups similar plots of pkm vs ph for lalanylpnitroanilide as substrate and pki vs ph for lleulleulleu and dleultyr as inhibitors gave pairs fo pka values of and and and and respectively all the above substrates and dleultyr have pka values near therefore the bindingdependent group with a pka value near is possibly this ATP group similar plots of pki vs ph for the inhibitors lphe lmet lleu octylamine and octanoic acid had only one bending point at and respectively amino acid inhibitors octylamine and octanoic acid have no groups with pka values between and these data indicate that there are two AS center ionizable groups with pka values of approximately and which are involved in substrate binding or inhibitory CAA binding but not in catalysis since vmax was constant at all ph values tested                                                                                                                                                                                                                                                                                                                                                                                                                                                                    |7|15|63|137|199|247|265    |\n",
            "|the reaction of glutamate dehydrogenase and glutamate gl with nad and nadp has been studied with stoppedflow techniques the enzyme was in all experiments present in excess of the coenzyme the results indicate that the ternary complex enadphkg is present as an intermediate in the formation of the stable complex enadphgl the identification of the complexes is based on their absorption spectra the binding of the coenzyme to egl is the ratelimiting step in the formation of enadphkg while the dissociation of alphaketoglutarate kg from this complex is the ratelimiting step in the formation of enadphgl the km for glutamate was mm in the first reaction and mm in the formation of the SD complex the km values were independent of the coenzyme the reaction rates with nad were approximately greater than those with nadp furthermore high glutamate concentration inhibited the formation of enadhkg while no substrate inhibition was found with nadp as coenzyme adp enhanced while gtp reduced the rate of enadphgl formation the rate of formation of enadphkg was inhibited by adp while it increased at high glutamate concentration when small amounts of gtp were added the results show that the higher activity found with nad compared to nadp under steadystate CA conditions do not necessarily involve IB of nad to the adp activating site of the enzyme moreover the substrate inhibition found at high glutamate concentration under steadystate assay condition is not due to the formation of enadphgl as this complex is formed with km of mm glu and the substrate inhibition is only significant at times this concentration                                                                                                                                                                                                                                                                                                                                                                                                                                                                                                                                                        |113|203|209|250            |\n",
            "|choline acetyltransferase ec catalyzes the biosynthesis of acetylcholine according to the following chemical equation acetylcoa choline in equilibrium to acetylcholine coa in addition to nervous tissue primate placenta is the only other animal source which contains appreciable acetylcholine and its biosynthetic enzyme human brain Cd nucleus and human placental choline acetyltransferase were purified to electrophoretic homogeneity using ionexchange and blue dextransepharose affinity chromatography the molecular weights determined by sephadex g gel filtration and sodium dodecyl sulfate gel electrophoresis are plus or minus nethylmaleimide pchloromercuribenzoate and dithiobisnitrobenzoic acid inhibit the enzyme dithiothreitol reverses the inhibition produced by the latter two reagents the pka of the group associated with nethylmaleimide inhibition is plus or minus a chemically competent acetylthioenzyme is isolable by sephadex gel filtration the enzymes from the brain and placenta are thus far physically and biochemically indistinguishable                                                                                                                                                                                                                                                                                                                                                                                                                                                                                                                                                                                                                                                                                                                                                                                                                                                                                                                                                                                                                                                                                                                                       |44                         |\n",
            "|increasing concentrations of chloride were found to increase the resolution between two visible absorbance spectral transitions associated with acidification of ferricytochrome c analysis of a variety of spectral and viscosity measurements indicates that protonation of a single group having an apparent pk of and an intrinsic pk of about displaces the methionine ligand without significantly perturbing the native globular conformation analysis of methylated ferricytochrome c suggests that protonation of a carboxylate ion most likely a heme propionate residue is responsible for MSD of the methionine ligand addition of a proton to a second group having an apparent pk of displaces the histidine ligand and unfolds the protein from a globular conformation into a random coil it is most likely that the second protonation occurs on the imidazole ring of the histidine ligand itself chloride is proposed to perturb these transitions by ligation in the fifth coordination position of the heme ion such ligation stabilizes a globular conformation of ferricytochrome c at ph and degrees                                                                                                                                                                                                                                                                                                                                                                                                                                                                                                                                                                                                                                                                                                                                                                                                                                                                                                                                                                                                                                                                                                       |81                         |\n",
            "|the properties of the functional CG in a protein can be used as builtinprobes of the structure of the protein we have developed a general procedure whereby the ionization constant and chemical reactivity of solitary PET groups in proteins may be determined the method may be applied to the side chain of histidine tyrosine lysine and cysteine as well as to the amino terminus of the protein the method which is an extension of the competitive labeling technique using h and cfluorodinitrobenzene nphf in a doublelabeling procedure is rapid and sensitive advantage is taken of the fact that T3 acid hydrolysis of a dinitrophenylated protein a derivative is obtained which must be derived from a unique position in the protein the method has been applied to the solitary histidine residue of lysozyme alphalytic protease and streptomyces griseus sg trypsin as well as to the amino terminus of the latter protein the following parameters were obtained for reaction with nphf at degrees c in n kcl the histidine of hen eggwhite lysozyme pka of and secondorder velocity constant of m min the histidine of alphalytic protease pka of and secondorder velocity constant of m min the histidine of sg trypsin pka of and secondorder velocity constant of m min the valyl amino terminus of sg trypsin pka of and secondorder velocity constant of m min in addition the results obtained provide clues as to the microenvironments of these functional groups and indicate that the proteins studied undergo phdependent conformational changes which affect the microenvironment and hence the chemical CR of these groups                                                                                                                                                                                                                                                                                                                                                                                                                                                                                                                                                                       |5|35|98|257                |\n",
            "|primary amines react with pentanedione at ph to form enamines nalkylaminopentenones the latter compounds readily regenerate the primary amine at low ph or on treatment with hydroxylamine guanidine and substituted guanidines react with pentanedione to form nsubstituted aminodimethylpyrimidines at a rate which is lower by at least a factor of than the rate of reaction of pentanedione with primary amines selective modification of lysine and arginine side chains in proteins can readily be achieved with pentanedione modification of lysine is favored by reaction at ph or for short reaction times at ph selective modification of Arg is achieved by reaction with pentanedione for long times at ph followed by treatment of the protein with hydroxylamine the extent of modification of lysine and arginine side chains can readily be measured spectrophotometrically modification of lysozyme with pentanedione at ph results in modification of lysine residues and less than arginine residue in hr modification of lysozyme with pentanedione at ph results in modification of lysine residues and Arg residues in hr treatment of this modified protein with hydroxylamine regenerated the modified lysine residues but caused no NC in the modified arginine residues one arginine residue seems to be essential for the catalytic activity of the enzyme                                                                                                                                                                                                                                                                                                                                                                                                                                                                                                                                                                                                                                                                                                                                                                                                                                             |95|164|183                 |\n",
            "|a purification procedure is reported for obtaining bovine liver DHF reductase in high yield and amounts of mg a key step in the procedure is the use of an affinity gel prepared by coupling pteroylllysine to sepharose the purified reductase has a TPS activity of about unitsmg and is homogeneous as judged by analytical ultracentrifugation polyacrylamide gel electrophoresis and titration with methotrexate the products of the first step of edman Kd indicated a minimum purity of the reductase has a molecular weight of about on the basis of amino acid composition and from equilibrium sedimentation it is not inhibited by AS to the streptococcus faecium reductase isoenzyme unlike the reductase of many other vertebrate tissues the bovine enzyme is inhibited by mercurials rather than activated and it has a single ph optimum at both low and high ionic strength however the position of the ph optimum is shifted and the activity increased by increasing ionic strength automatic edman degradation has been used to determine of the aminoterminal amino acid residues considerable homology exists between this region and the corresponding regions of the reductase from s faecium and from escherichia coli this strengthens the idea that this region contributes to the structure of the binding site for DHF                                                                                                                                                                                                                                                                                                                                                                                                                                                                                                                                                                                                                                                                                                                                                                                                                                                                               |9|42|70|100|206            |\n",
            "|dihydrofolate reductase has been purified fold to apparent homogeneity from a trimethoprimresistant strain of escherichia coli rt using a procedure that includes methotrexate affinity column chromatography determinations of the molecular weight of the enzyme based on its amino acid composition sedimentation velocity and sodium dodecyl sulfate gel electrophoresis gave values of and respectively an aggregated form of the enzyme with a low specific activity can be separated from the monomer by GF treatment of the aggregate with mercaptoethanol or dithiothreitol results in an increase in enzymic activity and a regeneration of the monomer also multiple molecular forms of the monomer have been detected by polyacrylamide gel PACE the unresolved enzyme exhibits two ph optima ph and ph with DHF as a substrate highest activities are observed in buffers containing large OCs in mm imidazolium chloride ph the specific activity is mumol of dihydrofolate reduced per min per mg at degrees folic acid also serves as a ATP with a single ph optimum of ph at this ph the km for folate is mum and the vmax is of the rate observed with DHF as the substrate monovalent cations na k rb and cs inhibit dihydrofolate reductase at a given ionic strength the degree of inhibition is a function of the ionic radius of the cation divalent cations are more potent inhibitors the i of bacl is mum as compared to mm for kcl anions neither inhibit nor activate the enzyme                                                                                                                                                                                                                                                                                                                                                                                                                                                                                                                                                                                                                                                                                                                       |71|106|118|130|156|182     |\n",
            "|ionization effects on the binding of the potential TS analogues phosphoglycolate and phosphoglycolohydroxamate appear to be attributable to the changing state of ionization of the ligands themselves therefore it is unnecessary to postulate the additional involvement of an ionizing residue at the active site of triosephosphate isomerase to explain the influence of changing ph on ki in the neutral range the binding of the competitive inhibitor inorganic sulfate is insensitive to changing ph in the neutral range chloroacetol sulfate synthesized as an activesitespecific reagent for triosephosphate isomerase is used to provide an indication of the pka of the essential carboxyl group of this enzyme previously described activesitespecific reagents for the isomerase were phosphate esters and their changing state of ionization accompanied by possible changes in their affinity for the AS site may have complicated earlier attempts to determine the pka of the essential carboxyl group from the ph dependence of the rate of inactivation being a strong monoprotic acid chloroacetol sulfate is better suited to the determination of the pka of the carboxyl group chloroacetol sulfate inactivates triosephosphate isomerase by the selective esterification of the same carboxyl group as that which is esterified by the phosphate esters described earlier from the ph dependence of the rate of inactivation of yeast triosephosphate isomerase the apparent pka of the activesite carboxyl group is estimated as                                                                                                                                                                                                                                                                                                                                                                                                                                                                                                                                                                                                                                                                       |8|129                      |\n",
            "|kinetic analyses of monoanion inhibition and cl nuclear magnetic resonance at mhz were employed to study monoanion interactions with the zinc metalloenzyme renal dipeptidase the enzymecatalyzed hydrolysis of glycyldehydrophenylalanine exhibited competitive inhibition when the reaction rate was determined in the presence of the monovalent anions fluoride chloride bromide iodide azide nitrate or thiocyanate or upon the addition of the divalent anion sulfate competitive inhibition was produced by these anions one anion was bound per enzyme molecule and except in the case of fluoride all of the anions appeared to bind at the same site cyanide ion produced a much more ERP inhibition of renal dipeptidase than the other monoanions and it was shown that two cyanide ions were bound per enzyme molecule an investigation of the effect of ph upon monoanion inhibition suggested that the anion inhibitors bind to the group with a pk of approximately complete dissociation of this group approximately ph eliminates the GABA effect of anions the cl L1 broadening produced by renal dipeptidase in m nacl solutions was times more effective than that produced by equivalent concentrations of aquozincii the line broadening was dependent upon the concentration of the metalloenzyme and independent of the frequency of the exciting radiation when zinc ion was removed from the metalloenzyme by dialysis or when chloride was titrated from the metalloenzyme by cyanide line broadening was decreased treatment of renal dipeptidase with saturating concentrations of the competitive inhibitor guanosine triphosphate in the presence of m nacl also produced a significant decrease in the cl L1 width the cl L1 broadening produced by renal dipeptidase was shown to decrease with increasing ph through the range ph this linewidth variation with ph appeared to result from the titration of a site on the metalloprotein with an approximate pk of temperature studies of cl L1 broadening by the metalloenzyme in the presence of chloride and cyanide inhibitors suggest that the fast exchange process pertains and that the dominant EC50 mechanism is quadrupolar in nature|100|155|161|254|258|301|325|\n",
            "|the nearultraviolet circular dichroism cd of three homogeneous antitype iii pneumococcal antibodies in the absence and the presence of the specific hexasaccharide ligand was studied in addition recombinations and hybridizations of h and l chains derived from two of these antibodies were carried out and the cd spectra of bound and free reconstituted igg molecules were measured the results indicate that the cd spectra of the native antibodies in the nm range are very similar in shape and sign and exhibit a positive band at nm the homologous reconstituted antibody molecules exhibited cd spectra very similar in shape and sign to those of the native antibody molecules although recombinant molecules are no longer stabilized by interchain disulfide bonds upon addition of the hexasaccharide ligand a significant decrease in amplitude of the cd spectra occurred in all three native antibodies and their fab fragments as well as in the homologous recombinant molecules no cd spectral changes could be detected upon interaction of the hapten ligand with the rat recombinants all homogeneous antibodies studied exhibited fluorescence quenching upon oligosaccharide binding and a blue shift of the emission maximum this property allowed the determination of the binding constant of one selected antibody to be made taken together cd and fluorescence spectroscopic data suggest that oligosaccharide ligands induced detectable conformational changes in the fab fragment of the antibody                                                                                                                                                                                                                                                                                                                                                                                                                                                                                                                                                                                                                                                                                          |166                        |\n",
            "|the circular polarization of luminescence cpl emitted by tryptophan residues was used as a sensitive probe for measuring ligandinduced structural changes in a homogeneous type iii pneumococcal antibody a series of oligosaccharide ligands of increasing size derived from type iii polysaccharide by partial acid hydrolysis was assayed ligandinduced changes in the circular polarization of fluorescence of the antibody were observed for all antigens tested including tetra hexa and octasaccharides and a residue oligomer the largest changes being recorded upon interaction with the intact soluble type iii pneumococcal siii polysaccharide when fab or fab fragments were used instead of the antibody igg for binding of siii polysaccharide the extent of conformational changes was decreased this suggests interactions between fab and fc portions in the igg molecule and subsequent conformational changes in fc part upon antigen binding reduction of interchain disulfide bonds abolished the additional spectral changes attributed to the fc part but not the changes observed in the fab part thus suggesting that the presence of the interchain disulfide bond in the hinge region is required for maximal cpl changes to occur small monovalent ligands ie the tetra hexa and octasaccharides were capable of inducing cpl changes in the fab part of the antibody molecule as well as cpl changes attributed to the fc portion a multivalent ligand containing about sugar residues appears to be the minimal antigenic size required for triggering conformational changes attributed to the fc part similar to those seen in the interaction with the whole SPA                                                                                                                                                                                                                                                                                                                                                                                                                                                                                                                                |248                        |\n",
            "+-----------------------------------------------------------------------------------------------------------------------------------------------------------------------------------------------------------------------------------------------------------------------------------------------------------------------------------------------------------------------------------------------------------------------------------------------------------------------------------------------------------------------------------------------------------------------------------------------------------------------------------------------------------------------------------------------------------------------------------------------------------------------------------------------------------------------------------------------------------------------------------------------------------------------------------------------------------------------------------------------------------------------------------------------------------------------------------------------------------------------------------------------------------------------------------------------------------------------------------------------------------------------------------------------------------------------------------------------------------------------------------------------------------------------------------------------------------------------------------------------------------------------------------------------------------------------------------------------------------------------------------------------------------------------------------------------------------------------------------------------------------------------------------------------------------------------------------------------------------------------------------------------------------------------------------------------------------------------------------------------------------------------------------------------------------------------------------------------------------------------------------------------------------------------------------------------------------------------------------+---------------------------+\n",
            "only showing top 20 rows\n",
            "\n"
          ]
        }
      ],
      "source": [
        "Medal_text.select(\"TEXT\",\"LOCATION\").show(truncate=False)"
      ]
    },
    {
      "cell_type": "code",
      "execution_count": null,
      "metadata": {
        "id": "oVYUiAtW5xPi",
        "colab": {
          "base_uri": "https://localhost:8080/"
        },
        "outputId": "a9c160c0-e048-4069-c70d-b2de1fbf84a0"
      },
      "outputs": [
        {
          "output_type": "stream",
          "name": "stderr",
          "text": [
            "/usr/local/lib/python3.10/dist-packages/ipykernel/ipkernel.py:283: DeprecationWarning: `should_run_async` will not call `transform_cell` automatically in the future. Please pass the result to `transformed_cell` argument and any exception that happen during thetransform in `preprocessing_exc_tuple` in IPython 7.17 and above.\n",
            "  and should_run_async(code)\n"
          ]
        },
        {
          "output_type": "stream",
          "name": "stdout",
          "text": [
            "+--------------------+--------------------+--------------------+--------------------+\n",
            "|                TEXT|            LOCATION|               LABEL|         WORDS_TOKEN|\n",
            "+--------------------+--------------------+--------------------+--------------------+\n",
            "|alphabisabolol ha...|                  56|           substrate|[alphabisabolol, ...|\n",
            "|a report is given...|24|49|68|113|137|172|carcinosarcoma|re...|[a, report, is, g...|\n",
            "|the virostatic co...|                  55|           substrate|[the, virostatic,...|\n",
            "|rmi rmi and rmi a...|   25|82|127|182|222|compounds|compoun...|[rmi, rmi, and, r...|\n",
            "|a doubleblind stu...|22|26|28|77|90|14...|oxazepam|placebo|...|[a, doubleblind, ...|\n",
            "|stroma from eithe...|         6|82|84|107|red cells|serum|a...|[stroma, from, ei...|\n",
            "|the effect of the...|                4|13|major|pentose pho...|[the, effect, of,...|\n",
            "|in one experiment...|        32|44|76|135|feeding|feeding|a...|[in, one, experim...|\n",
            "|the presence of a...|7|15|63|137|199|2...|active|study|acti...|[the, presence, o...|\n",
            "|the reaction of g...|     113|203|209|250|stable|assay|bind...|[the, reaction, o...|\n",
            "|choline acetyltra...|                  44|             caudate|[choline, acetylt...|\n",
            "|increasing concen...|                  81|        displacement|[increasing, conc...|\n",
            "|the properties of...|         5|35|98|257|groups|functional...|[the, properties,...|\n",
            "|primary amines re...|          95|164|183|arginine|arginine...|[primary, amines,...|\n",
            "|a purification pr...|     9|42|70|100|206|dihydrofolate|spe...|[a, purification,...|\n",
            "|dihydrofolate red...|71|106|118|130|15...|gel filtration|el...|[dihydrofolate, r...|\n",
            "|ionization effect...|               8|129|transition state|...|[ionization, effe...|\n",
            "|kinetic analyses ...|100|155|161|254|2...|effective|inhibit...|[kinetic, analyse...|\n",
            "|the nearultraviol...|                 166|        heterologous|[the, nearultravi...|\n",
            "|the circular pola...|                 248|polysaccharide an...|[the, circular, p...|\n",
            "+--------------------+--------------------+--------------------+--------------------+\n",
            "only showing top 20 rows\n",
            "\n"
          ]
        }
      ],
      "source": [
        "from pyspark.ml.feature import Tokenizer, StopWordsRemover\n",
        "from pyspark.sql.functions import trim,split,explode,col\n",
        "\n",
        "\n",
        "tokenizer = Tokenizer(inputCol='TEXT', outputCol='WORDS_TOKEN')\n",
        "Medal_text = Medal_text.withColumn(\"TEXT\", trim(col(\"TEXT\")))\n",
        "Medal_text = tokenizer.transform(Medal_text)\n",
        "Medal_text.show()"
      ]
    },
    {
      "cell_type": "code",
      "source": [
        "from pyspark.sql.functions import udf\n",
        "from pyspark.sql.types import ArrayType, StringType\n",
        "\n",
        "# Definisci una UDF per rimuovere le parole con lunghezza inferiore a 8 caratteri\n",
        "def filter_words(words):\n",
        "    filtered_words = [word for word in words if len(word) >= 8]\n",
        "    return filtered_words\n",
        "\n",
        "\n",
        "filter_words_udf = udf(filter_words, ArrayType(StringType()))\n",
        "\n",
        "# Create new column \"FILTERED_WORDS_TOKEN\"\n",
        "Medal_text = Medal_text.withColumn(\"FILTERED_WORDS_TOKEN\", filter_words_udf(Medal_text.WORDS_TOKEN))\n",
        "\n",
        "# View the DataFrame\n",
        "Medal_text.select(\"FILTERED_WORDS_TOKEN\").show(truncate=False)\n"
      ],
      "metadata": {
        "colab": {
          "base_uri": "https://localhost:8080/"
        },
        "id": "oOCBOOHRScLH",
        "outputId": "3dcba211-a3fb-4b12-c6bc-cb68db4a7afd"
      },
      "execution_count": null,
      "outputs": [
        {
          "output_type": "stream",
          "name": "stderr",
          "text": [
            "/usr/local/lib/python3.10/dist-packages/ipykernel/ipkernel.py:283: DeprecationWarning: `should_run_async` will not call `transform_cell` automatically in the future. Please pass the result to `transformed_cell` argument and any exception that happen during thetransform in `preprocessing_exc_tuple` in IPython 7.17 and above.\n",
            "  and should_run_async(code)\n"
          ]
        },
        {
          "output_type": "stream",
          "name": "stdout",
          "text": [
            "+-------------------------------------------------------------------------------------------------------------------------------------------------------------------------------------------------------------------------------------------------------------------------------------------------------------------------------------------------------------------------------------------------------------------------------------------------------------------------------------------------------------------------------------------------------------------------------------------------------------------------------------------------------------------------------------------------------------------------------------------------------------------------------------------------------------------------------------------------------------------------------------------------------------------------------------------------------------------------------------------------------------------------------------------------------------------------------------------------------------------------------------------------------------------------------------------------------------------------------------------------------------------------------------------+\n",
            "|FILTERED_WORDS_TOKEN                                                                                                                                                                                                                                                                                                                                                                                                                                                                                                                                                                                                                                                                                                                                                                                                                                                                                                                                                                                                                                                                                                                                                                                                                                                                       |\n",
            "+-------------------------------------------------------------------------------------------------------------------------------------------------------------------------------------------------------------------------------------------------------------------------------------------------------------------------------------------------------------------------------------------------------------------------------------------------------------------------------------------------------------------------------------------------------------------------------------------------------------------------------------------------------------------------------------------------------------------------------------------------------------------------------------------------------------------------------------------------------------------------------------------------------------------------------------------------------------------------------------------------------------------------------------------------------------------------------------------------------------------------------------------------------------------------------------------------------------------------------------------------------------------------------------------+\n",
            "|[alphabisabolol, antipeptic, depending, alteration, proteolytic, activity, addition, bisabolol, antipeptic, bisabolol, previous, inhibiting]                                                                                                                                                                                                                                                                                                                                                                                                                                                                                                                                                                                                                                                                                                                                                                                                                                                                                                                                                                                                                                                                                                                                               |\n",
            "|[discovery, outstanding, immunological, properties, ncyanoethyleneurea, molecular, experiments, negligible, lethality, hyperglycemia, hyperglycemia, otherwise, unchanged, conditions, substance, ifosfamide, development, cyclophosphamide, hyperglycemia, efficient, recovery, lethality, contrary, hyperglycemia, improvement, comparison, characterized, substances, different, complementary, mechanisms, leucocyte, application, cancerostatics, pronounced, stimulation, ifosfamide, suppression, posttherapeutic, interval, standard, cancerostatics, combination, pictures, conclusions, immunity, efficient, cancerostaticsthere, chemotherapeutic, significant, carcinosarcoma, findings, importance, leucocytes, lymphocytes, behaviour, determined, tumourfree, application, obtained, numerical, research, prophylactic, substance, necessary, promising]                                                                                                                                                                                                                                                                                                                                                                                                                    |\n",
            "|[virostatic, compound, nndiethyloxotetradecylimidazolidinylethylpiperazinecarboxamidehydrochloride, analyzed, induction, tryptophanpyrrolase, tyrosineaminotransferase, activity, influenced, substance, adrenalectomized, induction, cortisone, increased, presence, compound, induction, remained, unchanged, induction, tyrosineaminotransferase, dexamethasonephosphate, inhibited, compound]                                                                                                                                                                                                                                                                                                                                                                                                                                                                                                                                                                                                                                                                                                                                                                                                                                                                                          |\n",
            "|[synthetized, nrdibenzobfoxepinylnmethylpiperazinemaleates, interesting, psychopharmacologic, contains, performed, demonstrate, neuropsycholeptic, activity, comparison, chloropromazine, chlordiazepoxide, inhibition, motility, observed, compounds, spontaneous, motility, centraldepressant, activity, evidenced, increased, barbiturateinduced, remarkable, observed, activity, electroshock, antipsychotic, compounds, reduction, lethality, amphetamine, antiapomorphine, activity, antiaggressive, activity, avoidance, behaviour, stronger, extrapyramidal, catalepsy, tranquillizers, standards, vegetative, phenomena, compounds, hypotensive, moderate, probably, areceptor, inhibition, adrenolytic, activity, adrenaline, antiserotonin, antihistaminic, hypothermia, analgesia, pharmacologic, properties, metabolism, although, dopamine]                                                                                                                                                                                                                                                                                                                                                                                                                                  |\n",
            "|[doubleblind, intraindividual, comparisons, investigate, ralphahydroxyisopropylalphahtropanium, bromidetropate, oxazepam, randomized, sequence, concentration, volunteers, secretion, parameters, measured, stimulation, obtained, portions, stimulation, effected, infusion, friedman, comparative, statistical, individual, comparisons, wilcoxon, pairdifferences, oxazepam, stimulated, secretion, compared, possible, establish, secretion, oxazepam, equipotent, reducing, quantity, secretion, preparations, inhibiting, stimulated, although, preparations, produced, secretion, inhibiting, concentration, significant, stimulation, increased, oxazepam, discussed]                                                                                                                                                                                                                                                                                                                                                                                                                                                                                                                                                                                                              |\n",
            "|[inhibiting, enhancing, acidifiedserum, opposing, displayed, exclusion, sephadex, obtained, preparation, suggesting, responsible, activities, stromata, unacidified, indicating, activation, complement, alternate, confirmed, immunoelectrophoretic, observation, previously, alternate, markedly, indicate, activation, controlled, alternate, possible, clinical, significance, determining, haemolytic, patients, discussed]                                                                                                                                                                                                                                                                                                                                                                                                                                                                                                                                                                                                                                                                                                                                                                                                                                                           |\n",
            "|[metabolite, salicylic, gpddeficient, salicylic, proportion, concentration, substance, inhibition, gpddeficient]                                                                                                                                                                                                                                                                                                                                                                                                                                                                                                                                                                                                                                                                                                                                                                                                                                                                                                                                                                                                                                                                                                                                                                           |\n",
            "|[experiment, restricted, pelleted, variation, associated, pelleted, decreased, disappearance, incubation, receiving, pelleted, experiment, incubation, incubated, disappeared, receiving, pelleted, incubated, disappeared, incubated, receiving, voluntary, experiment, received, supplements, pelleted, barleykg, pelleted, digestibility, aciddetergent, pelleted, tendency, increase, digestibility, processing, implications, findings, supplementation, roughages, discussed]                                                                                                                                                                                                                                                                                                                                                                                                                                                                                                                                                                                                                                                                                                                                                                                                        |\n",
            "|[presence, ionizable, detected, catalysis, hydrolysis, lalanylbetanaphthylamide, aminopeptidase, inhibition, hydrolysis, inhibitors, substrate, octanoic, octylamine, inhibitors, competitive, inhibitors, therefore, previously, competitive, inhibitor, hydrolysis, tripeptide, substrates, biochemistry, substrate, lalabetanaphthylamide, decreased, theoretical, undergoes, integral, interpreted, ionizable, bindingdependent, lalanylpnitroanilide, substrate, lleulleulleu, dleultyr, inhibitors, respectively, substrates, dleultyr, therefore, bindingdependent, possibly, inhibitors, octylamine, octanoic, respectively, inhibitors, octylamine, octanoic, indicate, ionizable, approximately, involved, substrate, inhibitory, catalysis, constant]                                                                                                                                                                                                                                                                                                                                                                                                                                                                                                                           |\n",
            "|[reaction, glutamate, dehydrogenase, glutamate, stoppedflow, techniques, experiments, coenzyme, indicate, enadphkg, intermediate, formation, enadphgl, identification, complexes, absorption, coenzyme, ratelimiting, formation, enadphkg, dissociation, alphaketoglutarate, ratelimiting, formation, enadphgl, glutamate, reaction, formation, independent, coenzyme, reaction, approximately, furthermore, glutamate, concentration, inhibited, formation, substrate, inhibition, coenzyme, enhanced, enadphgl, formation, formation, enadphkg, inhibited, increased, glutamate, concentration, activity, compared, steadystate, conditions, necessarily, activating, moreover, substrate, inhibition, glutamate, concentration, steadystate, condition, formation, enadphgl, substrate, inhibition, significant, concentration]                                                                                                                                                                                                                                                                                                                                                                                                                                                         |\n",
            "|[acetyltransferase, catalyzes, biosynthesis, acetylcholine, according, following, chemical, equation, acetylcoa, equilibrium, acetylcholine, addition, placenta, contains, appreciable, acetylcholine, biosynthetic, placental, acetyltransferase, purified, electrophoretic, homogeneity, ionexchange, dextransepharose, affinity, chromatography, molecular, determined, sephadex, filtration, electrophoresis, nethylmaleimide, pchloromercuribenzoate, dithiobisnitrobenzoic, dithiothreitol, reverses, inhibition, produced, reagents, associated, nethylmaleimide, inhibition, chemically, competent, acetylthioenzyme, isolable, sephadex, filtration, placenta, physically, biochemically, indistinguishable]                                                                                                                                                                                                                                                                                                                                                                                                                                                                                                                                                                      |\n",
            "|[increasing, concentrations, chloride, increase, resolution, absorbance, spectral, transitions, associated, acidification, ferricytochrome, analysis, spectral, viscosity, measurements, indicates, protonation, apparent, intrinsic, displaces, methionine, significantly, perturbing, globular, conformation, analysis, methylated, ferricytochrome, suggests, protonation, carboxylate, propionate, responsible, methionine, addition, apparent, displaces, histidine, globular, conformation, protonation, imidazole, histidine, chloride, proposed, transitions, ligation, coordination, position, ligation, stabilizes, globular, conformation, ferricytochrome]                                                                                                                                                                                                                                                                                                                                                                                                                                                                                                                                                                                                                     |\n",
            "|[properties, functional, builtinprobes, structure, developed, procedure, ionization, constant, chemical, reactivity, solitary, proteins, determined, histidine, tyrosine, cysteine, terminus, extension, competitive, labeling, technique, cfluorodinitrobenzene, doublelabeling, procedure, sensitive, advantage, hydrolysis, dinitrophenylated, derivative, obtained, position, solitary, histidine, lysozyme, alphalytic, protease, streptomyces, terminus, following, parameters, obtained, reaction, histidine, eggwhite, lysozyme, secondorder, velocity, constant, histidine, alphalytic, protease, secondorder, velocity, constant, histidine, secondorder, velocity, constant, terminus, secondorder, velocity, constant, addition, obtained, microenvironments, functional, indicate, proteins, phdependent, conformational, microenvironment, chemical]                                                                                                                                                                                                                                                                                                                                                                                                                         |\n",
            "|[pentanedione, enamines, nalkylaminopentenones, compounds, regenerate, treatment, hydroxylamine, guanidine, substituted, guanidines, pentanedione, nsubstituted, aminodimethylpyrimidines, reaction, pentanedione, selective, modification, arginine, proteins, achieved, pentanedione, modification, reaction, reaction, selective, modification, achieved, reaction, pentanedione, followed, treatment, hydroxylamine, modification, arginine, measured, spectrophotometrically, modification, lysozyme, pentanedione, modification, residues, arginine, modification, lysozyme, pentanedione, modification, residues, residues, treatment, modified, hydroxylamine, regenerated, modified, residues, modified, arginine, residues, arginine, essential, catalytic, activity]                                                                                                                                                                                                                                                                                                                                                                                                                                                                                                            |\n",
            "|[purification, procedure, reported, obtaining, reductase, procedure, affinity, prepared, coupling, pteroylllysine, sepharose, purified, reductase, activity, homogeneous, analytical, ultracentrifugation, polyacrylamide, electrophoresis, titration, methotrexate, products, indicated, reductase, molecular, composition, equilibrium, sedimentation, inhibited, streptococcus, reductase, isoenzyme, reductase, vertebrate, inhibited, mercurials, activated, strength, position, activity, increased, increasing, strength, automatic, degradation, determine, aminoterminal, residues, considerable, homology, corresponding, reductase, escherichia, strengthens, contributes, structure]                                                                                                                                                                                                                                                                                                                                                                                                                                                                                                                                                                                           |\n",
            "|[dihydrofolate, reductase, purified, apparent, homogeneity, trimethoprimresistant, escherichia, procedure, includes, methotrexate, affinity, chromatography, determinations, molecular, composition, sedimentation, velocity, electrophoresis, respectively, aggregated, specific, activity, separated, treatment, aggregate, mercaptoethanol, dithiothreitol, increase, activity, regeneration, multiple, molecular, detected, polyacrylamide, unresolved, exhibits, substrate, activities, observed, containing, imidazolium, chloride, specific, activity, dihydrofolate, observed, substrate, monovalent, dihydrofolate, reductase, strength, inhibition, function, divalent, inhibitors, compared, activate]                                                                                                                                                                                                                                                                                                                                                                                                                                                                                                                                                                          |\n",
            "|[ionization, potential, analogues, phosphoglycolate, phosphoglycolohydroxamate, attributable, changing, ionization, themselves, therefore, unnecessary, postulate, additional, involvement, ionizing, triosephosphate, isomerase, influence, changing, competitive, inhibitor, inorganic, insensitive, changing, chloroacetol, synthesized, activesitespecific, triosephosphate, isomerase, indication, essential, carboxyl, previously, described, activesitespecific, reagents, isomerase, phosphate, changing, ionization, accompanied, possible, affinity, complicated, attempts, determine, essential, carboxyl, dependence, inactivation, monoprotic, chloroacetol, determination, carboxyl, chloroacetol, inactivates, triosephosphate, isomerase, selective, esterification, carboxyl, esterified, phosphate, described, dependence, inactivation, triosephosphate, isomerase, apparent, activesite, carboxyl, estimated]                                                                                                                                                                                                                                                                                                                                                          |\n",
            "|[analyses, monoanion, inhibition, magnetic, resonance, employed, monoanion, interactions, metalloenzyme, dipeptidase, enzymecatalyzed, hydrolysis, glycyldehydrophenylalanine, exhibited, competitive, inhibition, reaction, determined, presence, monovalent, fluoride, chloride, thiocyanate, addition, divalent, competitive, inhibition, produced, molecule, fluoride, appeared, produced, inhibition, dipeptidase, monoanions, molecule, investigation, monoanion, inhibition, suggested, inhibitors, approximately, complete, dissociation, approximately, eliminates, broadening, produced, dipeptidase, solutions, effective, produced, equivalent, concentrations, aquozincii, broadening, dependent, concentration, metalloenzyme, independent, frequency, exciting, radiation, metalloenzyme, dialysis, chloride, titrated, metalloenzyme, broadening, decreased, treatment, dipeptidase, saturating, concentrations, competitive, inhibitor, guanosine, triphosphate, presence, produced, significant, decrease, broadening, produced, dipeptidase, decrease, increasing, linewidth, variation, appeared, titration, metalloprotein, approximate, temperature, broadening, metalloenzyme, presence, chloride, inhibitors, exchange, pertains, dominant, mechanism, quadrupolar]|\n",
            "|[nearultraviolet, circular, dichroism, homogeneous, antitype, pneumococcal, antibodies, presence, specific, hexasaccharide, addition, recombinations, hybridizations, antibodies, reconstituted, molecules, measured, indicate, antibodies, positive, homologous, reconstituted, antibody, molecules, exhibited, antibody, molecules, although, recombinant, molecules, stabilized, interchain, disulfide, addition, hexasaccharide, significant, decrease, amplitude, occurred, antibodies, fragments, homologous, recombinant, molecules, spectral, detected, interaction, recombinants, homogeneous, antibodies, exhibited, fluorescence, quenching, oligosaccharide, emission, property, determination, constant, selected, antibody, together, fluorescence, spectroscopic, oligosaccharide, detectable, conformational, fragment, antibody]                                                                                                                                                                                                                                                                                                                                                                                                                                          |\n",
            "|[circular, polarization, luminescence, tryptophan, residues, sensitive, measuring, ligandinduced, structural, homogeneous, pneumococcal, antibody, oligosaccharide, increasing, polysaccharide, hydrolysis, ligandinduced, circular, polarization, fluorescence, antibody, observed, antigens, including, octasaccharides, oligomer, recorded, interaction, pneumococcal, polysaccharide, fragments, antibody, polysaccharide, conformational, decreased, suggests, interactions, portions, molecule, subsequent, conformational, reduction, interchain, disulfide, abolished, additional, spectral, attributed, observed, suggesting, presence, interchain, disulfide, required, monovalent, octasaccharides, inducing, antibody, molecule, attributed, multivalent, containing, residues, antigenic, required, triggering, conformational, attributed, interaction]                                                                                                                                                                                                                                                                                                                                                                                                                      |\n",
            "+-------------------------------------------------------------------------------------------------------------------------------------------------------------------------------------------------------------------------------------------------------------------------------------------------------------------------------------------------------------------------------------------------------------------------------------------------------------------------------------------------------------------------------------------------------------------------------------------------------------------------------------------------------------------------------------------------------------------------------------------------------------------------------------------------------------------------------------------------------------------------------------------------------------------------------------------------------------------------------------------------------------------------------------------------------------------------------------------------------------------------------------------------------------------------------------------------------------------------------------------------------------------------------------------+\n",
            "only showing top 20 rows\n",
            "\n"
          ]
        }
      ]
    },
    {
      "cell_type": "code",
      "execution_count": null,
      "metadata": {
        "id": "4gMnxBoBLaPg",
        "colab": {
          "base_uri": "https://localhost:8080/"
        },
        "outputId": "8d464e4d-806c-49db-daba-cc3240e075cb"
      },
      "outputs": [
        {
          "output_type": "stream",
          "name": "stderr",
          "text": [
            "/usr/local/lib/python3.10/dist-packages/ipykernel/ipkernel.py:283: DeprecationWarning: `should_run_async` will not call `transform_cell` automatically in the future. Please pass the result to `transformed_cell` argument and any exception that happen during thetransform in `preprocessing_exc_tuple` in IPython 7.17 and above.\n",
            "  and should_run_async(code)\n"
          ]
        },
        {
          "output_type": "stream",
          "name": "stdout",
          "text": [
            "+--------------------+--------------------+--------------------+--------------------+--------------------+\n",
            "|                TEXT|            LOCATION|               LABEL|         WORDS_TOKEN|FILTERED_WORDS_TOKEN|\n",
            "+--------------------+--------------------+--------------------+--------------------+--------------------+\n",
            "|alphabisabolol ha...|                  56|           substrate|[alphabisabolol, ...|[depending, alter...|\n",
            "|a report is given...|24|49|68|113|137|172|carcinosarcoma|re...|[a, report, is, g...|[pronounced, beha...|\n",
            "|the virostatic co...|                  55|           substrate|[the, virostatic,...|[tryptophanpyrrol...|\n",
            "|rmi rmi and rmi a...|   25|82|127|182|222|compounds|compoun...|[rmi, rmi, and, r...|[behaviour, stand...|\n",
            "|a doubleblind stu...|22|26|28|77|90|14...|oxazepam|placebo|...|[a, doubleblind, ...|[comparisons, par...|\n",
            "|stroma from eithe...|         6|82|84|107|red cells|serum|a...|[stroma, from, ei...|[obtained, displa...|\n",
            "|the effect of the...|                4|13|major|pentose pho...|[the, effect, of,...|[inhibition, conc...|\n",
            "|in one experiment...|        32|44|76|135|feeding|feeding|a...|[in, one, experim...|[aciddetergent, r...|\n",
            "|the presence of a...|7|15|63|137|199|2...|active|study|acti...|[the, presence, o...|[interpreted, com...|\n",
            "|the reaction of g...|     113|203|209|250|stable|assay|bind...|[the, reaction, o...|[concentration, s...|\n",
            "+--------------------+--------------------+--------------------+--------------------+--------------------+\n",
            "only showing top 10 rows\n",
            "\n"
          ]
        }
      ],
      "source": [
        "from pyspark.sql.functions import udf\n",
        "from pyspark.sql.types import ArrayType, StringType\n",
        "\n",
        "# Define the UDF\n",
        "get_uniques = udf(lambda x: list(set(x)), ArrayType(StringType()))\n",
        "\n",
        "# Unique Values\n",
        "Medal_text = Medal_text.withColumn(\"FILTERED_WORDS_TOKEN\", get_uniques(Medal_text.FILTERED_WORDS_TOKEN))\n",
        "\n",
        "\n",
        "Medal_text.show(10)\n"
      ]
    },
    {
      "cell_type": "code",
      "execution_count": null,
      "metadata": {
        "id": "ZtjmkBpk8XBA",
        "colab": {
          "base_uri": "https://localhost:8080/"
        },
        "outputId": "d54ac273-a06e-474a-bd68-e4983fed3210"
      },
      "outputs": [
        {
          "output_type": "stream",
          "name": "stderr",
          "text": [
            "/usr/local/lib/python3.10/dist-packages/ipykernel/ipkernel.py:283: DeprecationWarning: `should_run_async` will not call `transform_cell` automatically in the future. Please pass the result to `transformed_cell` argument and any exception that happen during thetransform in `preprocessing_exc_tuple` in IPython 7.17 and above.\n",
            "  and should_run_async(code)\n"
          ]
        },
        {
          "output_type": "stream",
          "name": "stdout",
          "text": [
            "+----------------------------------------------------------------------------------------------------------------------------------------------------------------------------------------------------------------------------------------------------------------------------------------------------------------------------------------------------------------------------------------------------------------------------------------------------------------------------------------------------------------------------------------------------------------------------------------------------------------------------------------------------------------------------------------------------------------------------------------------------------------------------------------------------------------------------------------------+\n",
            "|FILTERED_WORDS_TOKEN                                                                                                                                                                                                                                                                                                                                                                                                                                                                                                                                                                                                                                                                                                                                                                                                                          |\n",
            "+----------------------------------------------------------------------------------------------------------------------------------------------------------------------------------------------------------------------------------------------------------------------------------------------------------------------------------------------------------------------------------------------------------------------------------------------------------------------------------------------------------------------------------------------------------------------------------------------------------------------------------------------------------------------------------------------------------------------------------------------------------------------------------------------------------------------------------------------+\n",
            "|[depending, alteration, alphabisabolol, proteolytic, addition, previous, activity, bisabolol, antipeptic, inhibiting]                                                                                                                                                                                                                                                                                                                                                                                                                                                                                                                                                                                                                                                                                                                         |\n",
            "|[pronounced, behaviour, development, determined, substance, recovery, suppression, significant, carcinosarcoma, obtained, comparison, prophylactic, efficient, ifosfamide, leucocyte, ncyanoethyleneurea, substances, complementary, chemotherapeutic, immunological, cancerostaticsthere, interval, properties, application, necessary, promising, cyclophosphamide, posttherapeutic, pictures, immunity, outstanding, negligible, hyperglycemia, contrary, cancerostatics, lymphocytes, unchanged, findings, tumourfree, standard, numerical, conditions, lethality, research, importance, otherwise, experiments, stimulation, improvement, different, discovery, molecular, leucocytes, conclusions, mechanisms, characterized, combination]                                                                                              |\n",
            "|[tryptophanpyrrolase, cortisone, tyrosineaminotransferase, analyzed, substance, nndiethyloxotetradecylimidazolidinylethylpiperazinecarboxamidehydrochloride, presence, adrenalectomized, inhibited, influenced, remained, unchanged, compound, activity, increased, virostatic, dexamethasonephosphate, induction]                                                                                                                                                                                                                                                                                                                                                                                                                                                                                                                            |\n",
            "|[behaviour, standards, hypotensive, antihistaminic, antipsychotic, metabolism, comparison, chlordiazepoxide, phenomena, motility, vegetative, probably, antiaggressive, dopamine, increased, inhibition, remarkable, catalepsy, performed, neuropsycholeptic, evidenced, antiapomorphine, compounds, spontaneous, demonstrate, stronger, properties, adrenaline, moderate, avoidance, centraldepressant, extrapyramidal, tranquillizers, synthetized, contains, barbiturateinduced, areceptor, interesting, psychopharmacologic, pharmacologic, analgesia, lethality, reduction, nrdibenzobfoxepinylnmethylpiperazinemaleates, chloropromazine, antiserotonin, although, amphetamine, electroshock, activity, hypothermia, adrenolytic, observed]                                                                                             |\n",
            "|[comparisons, parameters, concentration, measured, significant, obtained, infusion, increased, friedman, doubleblind, oxazepam, pairdifferences, randomized, establish, quantity, wilcoxon, sequence, individual, comparative, stimulated, volunteers, ralphahydroxyisopropylalphahtropanium, intraindividual, possible, portions, preparations, investigate, reducing, inhibiting, effected, secretion, bromidetropate, statistical, although, stimulation, compared, equipotent, discussed, produced]                                                                                                                                                                                                                                                                                                                                       |\n",
            "|[obtained, displayed, observation, complement, haemolytic, determining, indicate, stromata, suggesting, alternate, confirmed, enhancing, acidifiedserum, preparation, unacidified, significance, indicating, clinical, possible, markedly, activation, opposing, previously, controlled, exclusion, inhibiting, sephadex, immunoelectrophoretic, patients, discussed, responsible, activities]                                                                                                                                                                                                                                                                                                                                                                                                                                                |\n",
            "|[inhibition, concentration, substance, metabolite, salicylic, gpddeficient, proportion]                                                                                                                                                                                                                                                                                                                                                                                                                                                                                                                                                                                                                                                                                                                                                       |\n",
            "|[aciddetergent, receiving, barleykg, incubation, disappeared, implications, voluntary, variation, tendency, experiment, associated, restricted, disappearance, roughages, supplements, incubated, processing, pelleted, findings, digestibility, supplementation, decreased, discussed, increase, received]                                                                                                                                                                                                                                                                                                                                                                                                                                                                                                                                   |\n",
            "|[interpreted, competitive, lleulleulleu, inhibitors, presence, detected, bindingdependent, lalanylbetanaphthylamide, octylamine, octanoic, constant, inhibition, involved, indicate, lalabetanaphthylamide, approximately, tripeptide, substrates, inhibitor, catalysis, integral, aminopeptidase, possibly, ionizable, undergoes, theoretical, previously, respectively, biochemistry, inhibitory, substrate, dleultyr, therefore, decreased, lalanylpnitroanilide, hydrolysis]                                                                                                                                                                                                                                                                                                                                                              |\n",
            "|[concentration, significant, glutamate, techniques, inhibited, increased, steadystate, reaction, inhibition, dehydrogenase, intermediate, indicate, independent, approximately, identification, enhanced, coenzyme, enadphgl, complexes, activating, moreover, necessarily, dissociation, furthermore, enadphkg, stoppedflow, ratelimiting, formation, conditions, absorption, experiments, substrate, compared, activity, condition, alphaketoglutarate]                                                                                                                                                                                                                                                                                                                                                                                     |\n",
            "|[ionexchange, chromatography, acetylcoa, isolable, chemical, equilibrium, dithiobisnitrobenzoic, affinity, pchloromercuribenzoate, placental, following, acetylthioenzyme, inhibition, catalyzes, reverses, appreciable, dextransepharose, according, equation, indistinguishable, filtration, reagents, associated, biosynthesis, homogeneity, biochemically, addition, acetyltransferase, electrophoretic, competent, purified, contains, biosynthetic, chemically, produced, sephadex, placenta, electrophoresis, physically, dithiothreitol, molecular, acetylcholine, determined, nethylmaleimide]                                                                                                                                                                                                                                       |\n",
            "|[globular, significantly, methionine, displaces, spectral, coordination, resolution, indicates, concentrations, acidification, apparent, protonation, conformation, viscosity, propionate, methylated, carboxylate, position, associated, addition, stabilizes, transitions, imidazole, measurements, suggests, proposed, intrinsic, increasing, histidine, ferricytochrome, chloride, absorbance, perturbing, increase, analysis, ligation, responsible]                                                                                                                                                                                                                                                                                                                                                                                     |\n",
            "|[builtinprobes, technique, competitive, ionization, parameters, obtained, velocity, chemical, extension, functional, dinitrophenylated, alphalytic, protease, constant, advantage, reaction, following, eggwhite, tyrosine, phdependent, indicate, structure, streptomyces, cfluorodinitrobenzene, terminus, microenvironment, properties, reactivity, derivative, position, labeling, microenvironments, conformational, solitary, secondorder, addition, procedure, developed, lysozyme, histidine, proteins, cysteine, sensitive, doublelabeling, hydrolysis, determined]                                                                                                                                                                                                                                                                  |\n",
            "|[measured, pentanedione, guanidine, nalkylaminopentenones, reaction, regenerated, guanidines, selective, compounds, modified, regenerate, catalytic, arginine, followed, hydroxylamine, achieved, spectrophotometrically, treatment, substituted, enamines, nsubstituted, lysozyme, modification, residues, proteins, aminodimethylpyrimidines, essential, activity]                                                                                                                                                                                                                                                                                                                                                                                                                                                                          |\n",
            "|[strengthens, streptococcus, prepared, equilibrium, inhibited, affinity, reductase, sepharose, polyacrylamide, composition, ultracentrifugation, sedimentation, increased, obtaining, aminoterminal, products, determine, pteroylllysine, escherichia, coupling, structure, indicated, purification, isoenzyme, corresponding, titration, position, degradation, strength, procedure, analytical, purified, homology, considerable, homogeneous, methotrexate, vertebrate, mercurials, residues, increasing, electrophoresis, reported, contributes, automatic, activated, molecular, activity]                                                                                                                                                                                                                                               |\n",
            "|[chromatography, aggregated, divalent, inhibitors, detected, velocity, trimethoprimresistant, activate, determinations, affinity, reductase, function, composition, polyacrylamide, sedimentation, monovalent, specific, inhibition, exhibits, apparent, escherichia, regeneration, multiple, separated, unresolved, containing, homogeneity, strength, procedure, treatment, imidazolium, purified, respectively, methotrexate, mercaptoethanol, dihydrofolate, electrophoresis, includes, aggregate, chloride, substrate, dithiothreitol, compared, increase, molecular, activity, activities, observed]                                                                                                                                                                                                                                    |\n",
            "|[indication, additional, ionization, triosephosphate, competitive, chloroacetol, monoprotic, determination, phosphoglycolate, isomerase, affinity, inactivation, phosphoglycolohydroxamate, inactivates, accompanied, complicated, apparent, potential, attempts, selective, determine, inhibitor, described, changing, inorganic, reagents, analogues, carboxyl, activesite, postulate, possible, esterification, insensitive, attributable, synthesized, involvement, dependence, ionizing, previously, influence, activesitespecific, estimated, themselves, unnecessary, therefore, essential, esterified, phosphate]                                                                                                                                                                                                                     |\n",
            "|[dipeptidase, eliminates, resonance, competitive, divalent, inhibitors, presence, concentration, frequency, significant, molecule, monoanions, thiocyanate, metalloprotein, magnetic, effective, complete, exchange, reaction, monovalent, concentrations, aquozincii, dependent, inhibition, enzymecatalyzed, saturating, independent, approximate, approximately, dialysis, temperature, variation, broadening, glycyldehydrophenylalanine, solutions, inhibitor, triphosphate, monoanion, dominant, appeared, titration, metalloenzyme, titrated, exciting, dissociation, addition, treatment, fluoride, analyses, guanosine, linewidth, pertains, interactions, increasing, mechanism, chloride, decrease, investigation, suggested, equivalent, radiation, decreased, employed, produced, hydrolysis, determined, quadrupolar, exhibited]|\n",
            "|[molecules, measured, disulfide, significant, presence, detected, determination, reconstituted, stabilized, spectral, interaction, fragment, fragments, recombinations, oligosaccharide, constant, antibodies, selected, pneumococcal, specific, emission, indicate, hybridizations, circular, positive, occurred, fluorescence, together, amplitude, homologous, antibody, spectroscopic, property, hexasaccharide, recombinant, conformational, addition, homogeneous, nearultraviolet, recombinants, decrease, detectable, antitype, interchain, although, quenching, dichroism, exhibited]                                                                                                                                                                                                                                                |\n",
            "|[inducing, additional, disulfide, presence, molecule, oligomer, spectral, interaction, antigenic, fragments, oligosaccharide, tryptophan, monovalent, pneumococcal, suggesting, multivalent, required, circular, structural, fluorescence, antigens, luminescence, antibody, containing, conformational, recorded, attributed, polarization, portions, homogeneous, measuring, suggests, residues, octasaccharides, subsequent, increasing, polysaccharide, reduction, abolished, including, sensitive, interchain, triggering, decreased, interactions, ligandinduced, hydrolysis, observed]                                                                                                                                                                                                                                                 |\n",
            "+----------------------------------------------------------------------------------------------------------------------------------------------------------------------------------------------------------------------------------------------------------------------------------------------------------------------------------------------------------------------------------------------------------------------------------------------------------------------------------------------------------------------------------------------------------------------------------------------------------------------------------------------------------------------------------------------------------------------------------------------------------------------------------------------------------------------------------------------+\n",
            "only showing top 20 rows\n",
            "\n"
          ]
        }
      ],
      "source": [
        "Medal_text.select(\"FILTERED_WORDS_TOKEN\").show(truncate=False)"
      ]
    },
    {
      "cell_type": "code",
      "execution_count": null,
      "metadata": {
        "id": "y5N9zB4sdNLG",
        "colab": {
          "base_uri": "https://localhost:8080/"
        },
        "outputId": "7f4a01e2-c809-40f5-b48d-d544de1715e0"
      },
      "outputs": [
        {
          "output_type": "stream",
          "name": "stderr",
          "text": [
            "/usr/local/lib/python3.10/dist-packages/ipykernel/ipkernel.py:283: DeprecationWarning: `should_run_async` will not call `transform_cell` automatically in the future. Please pass the result to `transformed_cell` argument and any exception that happen during thetransform in `preprocessing_exc_tuple` in IPython 7.17 and above.\n",
            "  and should_run_async(code)\n"
          ]
        }
      ],
      "source": [
        "# Remove columns from DataFrame\n",
        "Medal_text = Medal_text.drop(\"counter_id\",\"LOCATION\",\"LABEL\",\"WORDS_TOKEN\")\n"
      ]
    },
    {
      "cell_type": "code",
      "execution_count": null,
      "metadata": {
        "id": "mzFBlCyRHh6E",
        "colab": {
          "base_uri": "https://localhost:8080/"
        },
        "outputId": "957c48b6-71f0-4817-8b7d-8dd13123e482"
      },
      "outputs": [
        {
          "output_type": "stream",
          "name": "stderr",
          "text": [
            "/usr/local/lib/python3.10/dist-packages/ipykernel/ipkernel.py:283: DeprecationWarning: `should_run_async` will not call `transform_cell` automatically in the future. Please pass the result to `transformed_cell` argument and any exception that happen during thetransform in `preprocessing_exc_tuple` in IPython 7.17 and above.\n",
            "  and should_run_async(code)\n"
          ]
        },
        {
          "output_type": "execute_result",
          "data": {
            "text/plain": [
              "DataFrame[TEXT: string, FILTERED_WORDS_TOKEN: array<string>]"
            ]
          },
          "metadata": {},
          "execution_count": 26
        }
      ],
      "source": [
        "Medal_text.cache()"
      ]
    },
    {
      "cell_type": "code",
      "source": [
        "Medal_text = Medal_text.repartition(100)  # Adjust the number of partitions based on your cluster configuration\n",
        "\n"
      ],
      "metadata": {
        "colab": {
          "base_uri": "https://localhost:8080/"
        },
        "id": "RwMb7wGBo3Tl",
        "outputId": "99eaf07f-32d0-4f61-b76e-be2689298af9"
      },
      "execution_count": null,
      "outputs": [
        {
          "output_type": "stream",
          "name": "stderr",
          "text": [
            "/usr/local/lib/python3.10/dist-packages/ipykernel/ipkernel.py:283: DeprecationWarning: `should_run_async` will not call `transform_cell` automatically in the future. Please pass the result to `transformed_cell` argument and any exception that happen during thetransform in `preprocessing_exc_tuple` in IPython 7.17 and above.\n",
            "  and should_run_async(code)\n"
          ]
        }
      ]
    },
    {
      "cell_type": "code",
      "source": [
        "from pyspark.ml.fpm import FPGrowth"
      ],
      "metadata": {
        "colab": {
          "base_uri": "https://localhost:8080/"
        },
        "id": "q4V75ivyf3sm",
        "outputId": "076c1a4a-4a38-449a-e918-245cff9d7cdb"
      },
      "execution_count": null,
      "outputs": [
        {
          "output_type": "stream",
          "name": "stderr",
          "text": [
            "/usr/local/lib/python3.10/dist-packages/ipykernel/ipkernel.py:283: DeprecationWarning: `should_run_async` will not call `transform_cell` automatically in the future. Please pass the result to `transformed_cell` argument and any exception that happen during thetransform in `preprocessing_exc_tuple` in IPython 7.17 and above.\n",
            "  and should_run_async(code)\n"
          ]
        }
      ]
    },
    {
      "cell_type": "code",
      "execution_count": null,
      "metadata": {
        "id": "jeZ17ydbU_Y2",
        "colab": {
          "base_uri": "https://localhost:8080/"
        },
        "outputId": "b02ee4f1-b7de-4d03-a741-159a42096730"
      },
      "outputs": [
        {
          "output_type": "stream",
          "name": "stderr",
          "text": [
            "/usr/local/lib/python3.10/dist-packages/ipykernel/ipkernel.py:283: DeprecationWarning: `should_run_async` will not call `transform_cell` automatically in the future. Please pass the result to `transformed_cell` argument and any exception that happen during thetransform in `preprocessing_exc_tuple` in IPython 7.17 and above.\n",
            "  and should_run_async(code)\n"
          ]
        }
      ],
      "source": [
        "np.random.seed(1)\n",
        "\n",
        "fpGrowth = FPGrowth(itemsCol=\"FILTERED_WORDS_TOKEN\", minSupport = 0.02)\n",
        "model = fpGrowth.fit(Medal_text)\n",
        "association_rules = model.associationRules\n",
        "frequent_items = model.freqItemsets"
      ]
    },
    {
      "cell_type": "code",
      "source": [
        "from pyspark.sql.functions import desc\n",
        "frequent_items_sorted = frequent_items.orderBy(desc(\"freq\"))"
      ],
      "metadata": {
        "colab": {
          "base_uri": "https://localhost:8080/"
        },
        "id": "ALzbDfs58nE1",
        "outputId": "c6040657-6dfc-47e4-845f-508831ff7cd8"
      },
      "execution_count": null,
      "outputs": [
        {
          "output_type": "stream",
          "name": "stderr",
          "text": [
            "/usr/local/lib/python3.10/dist-packages/ipykernel/ipkernel.py:283: DeprecationWarning: `should_run_async` will not call `transform_cell` automatically in the future. Please pass the result to `transformed_cell` argument and any exception that happen during thetransform in `preprocessing_exc_tuple` in IPython 7.17 and above.\n",
            "  and should_run_async(code)\n"
          ]
        }
      ]
    },
    {
      "cell_type": "code",
      "execution_count": null,
      "metadata": {
        "id": "Kvh2MQiufEn9",
        "colab": {
          "base_uri": "https://localhost:8080/"
        },
        "outputId": "d1f410f4-5027-427a-df29-a5243091469e"
      },
      "outputs": [
        {
          "output_type": "stream",
          "name": "stderr",
          "text": [
            "/usr/local/lib/python3.10/dist-packages/ipykernel/ipkernel.py:283: DeprecationWarning: `should_run_async` will not call `transform_cell` automatically in the future. Please pass the result to `transformed_cell` argument and any exception that happen during thetransform in `preprocessing_exc_tuple` in IPython 7.17 and above.\n",
            "  and should_run_async(code)\n"
          ]
        },
        {
          "output_type": "stream",
          "name": "stdout",
          "text": [
            "+----------------+-----+\n",
            "|items           |freq |\n",
            "+----------------+-----+\n",
            "|[patients]      |32752|\n",
            "|[activity]      |27696|\n",
            "|[observed]      |21231|\n",
            "|[increased]     |20109|\n",
            "|[treatment]     |19469|\n",
            "|[different]     |17687|\n",
            "|[presence]      |16587|\n",
            "|[increase]      |16458|\n",
            "|[significant]   |16373|\n",
            "|[obtained]      |16004|\n",
            "|[compared]      |15744|\n",
            "|[significantly] |13739|\n",
            "|[concentration] |13426|\n",
            "|[response]      |13212|\n",
            "|[clinical]      |12783|\n",
            "|[discussed]     |12753|\n",
            "|[isolated]      |12067|\n",
            "|[concentrations]|11871|\n",
            "|[following]     |11817|\n",
            "|[addition]      |11247|\n",
            "+----------------+-----+\n",
            "only showing top 20 rows\n",
            "\n"
          ]
        }
      ],
      "source": [
        "frequent_items_sorted.show(truncate=False)\n"
      ]
    },
    {
      "cell_type": "code",
      "source": [
        "import pandas as pd\n",
        "!pip install apyori\n",
        "\n",
        "from apyori import apriori, load_transactions\n",
        "\n",
        "# Load the MeDal dataset from the Kaggle dataset into a DataFrame\n",
        "df =  Medal_text.limit(10000).toPandas()\n"
      ],
      "metadata": {
        "colab": {
          "base_uri": "https://localhost:8080/"
        },
        "id": "QWQCr5bE6VwO",
        "outputId": "b6e29034-9c97-4ee4-e007-faff88f0d8ca"
      },
      "execution_count": null,
      "outputs": [
        {
          "output_type": "stream",
          "name": "stderr",
          "text": [
            "/usr/local/lib/python3.10/dist-packages/ipykernel/ipkernel.py:283: DeprecationWarning: `should_run_async` will not call `transform_cell` automatically in the future. Please pass the result to `transformed_cell` argument and any exception that happen during thetransform in `preprocessing_exc_tuple` in IPython 7.17 and above.\n",
            "  and should_run_async(code)\n"
          ]
        },
        {
          "output_type": "stream",
          "name": "stdout",
          "text": [
            "Collecting apyori\n",
            "  Downloading apyori-1.1.2.tar.gz (8.6 kB)\n",
            "  Preparing metadata (setup.py) ... \u001b[?25l\u001b[?25hdone\n",
            "Building wheels for collected packages: apyori\n",
            "  Building wheel for apyori (setup.py) ... \u001b[?25l\u001b[?25hdone\n",
            "  Created wheel for apyori: filename=apyori-1.1.2-py3-none-any.whl size=5955 sha256=9fcd9bf5fa46bb9a2bb8e62c221a688a53791355acd5fa493dac53a338efad8d\n",
            "  Stored in directory: /root/.cache/pip/wheels/c4/1a/79/20f55c470a50bb3702a8cb7c94d8ada15573538c7f4baebe2d\n",
            "Successfully built apyori\n",
            "Installing collected packages: apyori\n",
            "Successfully installed apyori-1.1.2\n"
          ]
        }
      ]
    },
    {
      "cell_type": "code",
      "source": [
        "import pandas as pd\n",
        "from apyori import apriori\n",
        "\n",
        "\n",
        "# Convert the 'FILTERED_WORDS_TOKEN' column to a list of lists\n",
        "transactions = df['FILTERED_WORDS_TOKEN'].tolist()\n",
        "\n",
        "# Apply Apriori algorithm\n",
        "min_support = 0.02\n",
        "min_confidence = 0.2\n",
        "rules = apriori(transactions, min_support=min_support, min_confidence=min_confidence)\n",
        "\n",
        "#  list of dictionaries\n",
        "results = list(rules)\n",
        "\n",
        "# Print the frequent itemsets and association rules\n",
        "for result in results:\n",
        "    print(\"Frequent Itemset:\", result.items)\n",
        "    print(\"Support:\", result.support)\n",
        "    print(\"Association Rules:\")\n",
        "    for rule in result.ordered_statistics:\n",
        "        print(\"Rule:\", list(rule.items_base), \"->\", list(rule.items_add))\n",
        "        print(\"Confidence:\", rule.confidence)\n",
        "    print(\"=\"*50)\n"
      ],
      "metadata": {
        "colab": {
          "base_uri": "https://localhost:8080/"
        },
        "id": "i1zZj0ktUv4c",
        "outputId": "2cec7eab-d421-4a6c-8e0b-f7a6849195d8"
      },
      "execution_count": null,
      "outputs": [
        {
          "output_type": "stream",
          "name": "stderr",
          "text": [
            "/usr/local/lib/python3.10/dist-packages/ipykernel/ipkernel.py:283: DeprecationWarning: `should_run_async` will not call `transform_cell` automatically in the future. Please pass the result to `transformed_cell` argument and any exception that happen during thetransform in `preprocessing_exc_tuple` in IPython 7.17 and above.\n",
            "  and should_run_async(code)\n"
          ]
        },
        {
          "output_type": "stream",
          "name": "stdout",
          "text": [
            "Frequent Itemset: frozenset({'patients'})\n",
            "Support: 0.218\n",
            "Association Rules:\n",
            "Rule: [] -> ['patients']\n",
            "Confidence: 0.218\n",
            "==================================================\n",
            "Frequent Itemset: frozenset({'activity', 'compared'})\n",
            "Support: 0.0209\n",
            "Association Rules:\n",
            "Rule: ['compared'] -> ['activity']\n",
            "Confidence: 0.2037037037037037\n",
            "==================================================\n",
            "Frequent Itemset: frozenset({'activity', 'concentration'})\n",
            "Support: 0.0242\n",
            "Association Rules:\n",
            "Rule: ['concentration'] -> ['activity']\n",
            "Confidence: 0.2813953488372093\n",
            "==================================================\n",
            "Frequent Itemset: frozenset({'activity', 'different'})\n",
            "Support: 0.0248\n",
            "Association Rules:\n",
            "Rule: ['different'] -> ['activity']\n",
            "Confidence: 0.22162645218945487\n",
            "==================================================\n",
            "Frequent Itemset: frozenset({'activity', 'increase'})\n",
            "Support: 0.0289\n",
            "Association Rules:\n",
            "Rule: ['increase'] -> ['activity']\n",
            "Confidence: 0.2673450508788159\n",
            "==================================================\n",
            "Frequent Itemset: frozenset({'activity', 'increased'})\n",
            "Support: 0.0373\n",
            "Association Rules:\n",
            "Rule: ['activity'] -> ['increased']\n",
            "Confidence: 0.202607278652906\n",
            "Rule: ['increased'] -> ['activity']\n",
            "Confidence: 0.28045112781954884\n",
            "==================================================\n",
            "Frequent Itemset: frozenset({'activity', 'inhibited'})\n",
            "Support: 0.0204\n",
            "Association Rules:\n",
            "Rule: ['inhibited'] -> ['activity']\n",
            "Confidence: 0.3945841392649903\n",
            "==================================================\n",
            "Frequent Itemset: frozenset({'activity', 'inhibition'})\n",
            "Support: 0.0206\n",
            "Association Rules:\n",
            "Rule: ['inhibition'] -> ['activity']\n",
            "Confidence: 0.3725135623869801\n",
            "==================================================\n",
            "Frequent Itemset: frozenset({'activity', 'isolated'})\n",
            "Support: 0.0225\n",
            "Association Rules:\n",
            "Rule: ['isolated'] -> ['activity']\n",
            "Confidence: 0.2816020025031289\n",
            "==================================================\n",
            "Frequent Itemset: frozenset({'activity', 'observed'})\n",
            "Support: 0.0344\n",
            "Association Rules:\n",
            "Rule: ['observed'] -> ['activity']\n",
            "Confidence: 0.24022346368715083\n",
            "==================================================\n",
            "Frequent Itemset: frozenset({'activity', 'obtained'})\n",
            "Support: 0.0232\n",
            "Association Rules:\n",
            "Rule: ['obtained'] -> ['activity']\n",
            "Confidence: 0.22700587084148727\n",
            "==================================================\n",
            "Frequent Itemset: frozenset({'activity', 'presence'})\n",
            "Support: 0.0296\n",
            "Association Rules:\n",
            "Rule: ['presence'] -> ['activity']\n",
            "Confidence: 0.27950897072710107\n",
            "==================================================\n",
            "Frequent Itemset: frozenset({'activity', 'purified'})\n",
            "Support: 0.0208\n",
            "Association Rules:\n",
            "Rule: ['purified'] -> ['activity']\n",
            "Confidence: 0.42535787321063395\n",
            "==================================================\n",
            "Frequent Itemset: frozenset({'activity', 'specific'})\n",
            "Support: 0.0206\n",
            "Association Rules:\n",
            "Rule: ['specific'] -> ['activity']\n",
            "Confidence: 0.3203732503888025\n",
            "==================================================\n",
            "Frequent Itemset: frozenset({'associated', 'patients'})\n",
            "Support: 0.0213\n",
            "Association Rules:\n",
            "Rule: ['associated'] -> ['patients']\n",
            "Confidence: 0.2727272727272727\n",
            "==================================================\n",
            "Frequent Itemset: frozenset({'clinical', 'patients'})\n",
            "Support: 0.041\n",
            "Association Rules:\n",
            "Rule: ['clinical'] -> ['patients']\n",
            "Confidence: 0.48009367681498827\n",
            "==================================================\n",
            "Frequent Itemset: frozenset({'patients', 'compared'})\n",
            "Support: 0.0278\n",
            "Association Rules:\n",
            "Rule: ['compared'] -> ['patients']\n",
            "Confidence: 0.2709551656920078\n",
            "==================================================\n",
            "Frequent Itemset: frozenset({'significantly', 'compared'})\n",
            "Support: 0.0215\n",
            "Association Rules:\n",
            "Rule: ['compared'] -> ['significantly']\n",
            "Confidence: 0.20955165692007796\n",
            "Rule: ['significantly'] -> ['compared']\n",
            "Confidence: 0.22799575821845175\n",
            "==================================================\n",
            "Frequent Itemset: frozenset({'concentration', 'concentrations'})\n",
            "Support: 0.0252\n",
            "Association Rules:\n",
            "Rule: ['concentration'] -> ['concentrations']\n",
            "Confidence: 0.2930232558139535\n",
            "Rule: ['concentrations'] -> ['concentration']\n",
            "Confidence: 0.3337748344370861\n",
            "==================================================\n",
            "Frequent Itemset: frozenset({'concentration', 'increased'})\n",
            "Support: 0.0224\n",
            "Association Rules:\n",
            "Rule: ['concentration'] -> ['increased']\n",
            "Confidence: 0.26046511627906976\n",
            "==================================================\n",
            "Frequent Itemset: frozenset({'increase', 'decrease'})\n",
            "Support: 0.0214\n",
            "Association Rules:\n",
            "Rule: ['decrease'] -> ['increase']\n",
            "Confidence: 0.3912248628884826\n",
            "==================================================\n",
            "Frequent Itemset: frozenset({'decreased', 'increased'})\n",
            "Support: 0.0287\n",
            "Association Rules:\n",
            "Rule: ['decreased'] -> ['increased']\n",
            "Confidence: 0.45555555555555555\n",
            "Rule: ['increased'] -> ['decreased']\n",
            "Confidence: 0.2157894736842105\n",
            "==================================================\n",
            "Frequent Itemset: frozenset({'possible', 'discussed'})\n",
            "Support: 0.0219\n",
            "Association Rules:\n",
            "Rule: ['discussed'] -> ['possible']\n",
            "Confidence: 0.2446927374301676\n",
            "Rule: ['possible'] -> ['discussed']\n",
            "Confidence: 0.2814910025706941\n",
            "==================================================\n",
            "Frequent Itemset: frozenset({'patients', 'findings'})\n",
            "Support: 0.0208\n",
            "Association Rules:\n",
            "Rule: ['findings'] -> ['patients']\n",
            "Confidence: 0.30057803468208094\n",
            "==================================================\n",
            "Frequent Itemset: frozenset({'increase', 'increased'})\n",
            "Support: 0.035\n",
            "Association Rules:\n",
            "Rule: ['increase'] -> ['increased']\n",
            "Confidence: 0.32377428307123035\n",
            "Rule: ['increased'] -> ['increase']\n",
            "Confidence: 0.2631578947368421\n",
            "==================================================\n",
            "Frequent Itemset: frozenset({'observed', 'increase'})\n",
            "Support: 0.0249\n",
            "Association Rules:\n",
            "Rule: ['increase'] -> ['observed']\n",
            "Confidence: 0.23034227567067528\n",
            "==================================================\n",
            "Frequent Itemset: frozenset({'patients', 'increased'})\n",
            "Support: 0.0299\n",
            "Association Rules:\n",
            "Rule: ['increased'] -> ['patients']\n",
            "Confidence: 0.22481203007518796\n",
            "==================================================\n",
            "Frequent Itemset: frozenset({'significantly', 'increased'})\n",
            "Support: 0.0253\n",
            "Association Rules:\n",
            "Rule: ['significantly'] -> ['increased']\n",
            "Confidence: 0.2682926829268293\n",
            "==================================================\n",
            "Frequent Itemset: frozenset({'observed', 'significant'})\n",
            "Support: 0.0232\n",
            "Association Rules:\n",
            "Rule: ['significant'] -> ['observed']\n",
            "Confidence: 0.21601489757914338\n",
            "==================================================\n",
            "Frequent Itemset: frozenset({'patients', 'performed'})\n",
            "Support: 0.0216\n",
            "Association Rules:\n",
            "Rule: ['performed'] -> ['patients']\n",
            "Confidence: 0.41779497098646035\n",
            "==================================================\n",
            "Frequent Itemset: frozenset({'patients', 'response'})\n",
            "Support: 0.0205\n",
            "Association Rules:\n",
            "Rule: ['response'] -> ['patients']\n",
            "Confidence: 0.24463007159904535\n",
            "==================================================\n",
            "Frequent Itemset: frozenset({'patients', 'significant'})\n",
            "Support: 0.0363\n",
            "Association Rules:\n",
            "Rule: ['significant'] -> ['patients']\n",
            "Confidence: 0.33798882681564246\n",
            "==================================================\n",
            "Frequent Itemset: frozenset({'significantly', 'patients'})\n",
            "Support: 0.0281\n",
            "Association Rules:\n",
            "Rule: ['significantly'] -> ['patients']\n",
            "Confidence: 0.2979851537645811\n",
            "==================================================\n",
            "Frequent Itemset: frozenset({'patients', 'treatment'})\n",
            "Support: 0.0504\n",
            "Association Rules:\n",
            "Rule: ['patients'] -> ['treatment']\n",
            "Confidence: 0.23119266055045873\n",
            "Rule: ['treatment'] -> ['patients']\n",
            "Confidence: 0.38385376999238385\n",
            "==================================================\n",
            "Frequent Itemset: frozenset({'significantly', 'significant'})\n",
            "Support: 0.0236\n",
            "Association Rules:\n",
            "Rule: ['significant'] -> ['significantly']\n",
            "Confidence: 0.21973929236499068\n",
            "Rule: ['significantly'] -> ['significant']\n",
            "Confidence: 0.25026511134676566\n",
            "==================================================\n"
          ]
        }
      ]
    }
  ],
  "metadata": {
    "colab": {
      "provenance": []
    },
    "kernelspec": {
      "display_name": "Python 3",
      "name": "python3"
    },
    "language_info": {
      "name": "python"
    }
  },
  "nbformat": 4,
  "nbformat_minor": 0
}